{
 "cells": [
  {
   "cell_type": "code",
   "execution_count": 57,
   "id": "2c28129b-f63b-484d-9966-25d958dd308b",
   "metadata": {},
   "outputs": [],
   "source": [
    "import pandas as pd\n",
    "import matplotlib.pyplot as plt\n",
    "import seaborn as sns\n",
    "import numpy as np"
   ]
  },
  {
   "cell_type": "code",
   "execution_count": 58,
   "id": "c480395a-3267-45e5-a7ce-36f6b315fcfb",
   "metadata": {},
   "outputs": [
    {
     "data": {
      "text/html": [
       "<div>\n",
       "<style scoped>\n",
       "    .dataframe tbody tr th:only-of-type {\n",
       "        vertical-align: middle;\n",
       "    }\n",
       "\n",
       "    .dataframe tbody tr th {\n",
       "        vertical-align: top;\n",
       "    }\n",
       "\n",
       "    .dataframe thead th {\n",
       "        text-align: right;\n",
       "    }\n",
       "</style>\n",
       "<table border=\"1\" class=\"dataframe\">\n",
       "  <thead>\n",
       "    <tr style=\"text-align: right;\">\n",
       "      <th></th>\n",
       "      <th>brand</th>\n",
       "      <th>model</th>\n",
       "      <th>transmission</th>\n",
       "      <th>make_year</th>\n",
       "      <th>reg_year</th>\n",
       "      <th>fuel_type</th>\n",
       "      <th>engine_capacity(CC)</th>\n",
       "      <th>km_driven</th>\n",
       "      <th>ownership</th>\n",
       "      <th>price</th>\n",
       "      <th>overall_cost</th>\n",
       "      <th>has_insurance</th>\n",
       "      <th>spare_key</th>\n",
       "      <th>reg_number</th>\n",
       "      <th>title</th>\n",
       "    </tr>\n",
       "  </thead>\n",
       "  <tbody>\n",
       "    <tr>\n",
       "      <th>0</th>\n",
       "      <td>Mahindra</td>\n",
       "      <td>Thar LX D 4WD MT CONVERTIBLE</td>\n",
       "      <td>Manual</td>\n",
       "      <td>2020.0</td>\n",
       "      <td>01-01-2021</td>\n",
       "      <td>Diesel</td>\n",
       "      <td>2184.0</td>\n",
       "      <td>11003.0</td>\n",
       "      <td>1st owner</td>\n",
       "      <td>1231000</td>\n",
       "      <td>23431.0</td>\n",
       "      <td>True</td>\n",
       "      <td>No</td>\n",
       "      <td>HR26</td>\n",
       "      <td>2020 Mahindra Thar LX D 4WD MT CONVERTIBLE</td>\n",
       "    </tr>\n",
       "    <tr>\n",
       "      <th>1</th>\n",
       "      <td>Hyundai</td>\n",
       "      <td>Verna 1.6 VTVT SX</td>\n",
       "      <td>Manual</td>\n",
       "      <td>2018.0</td>\n",
       "      <td>01-07-2018</td>\n",
       "      <td>Petrol</td>\n",
       "      <td>1591.0</td>\n",
       "      <td>66936.0</td>\n",
       "      <td>1st owner</td>\n",
       "      <td>786000</td>\n",
       "      <td>15359.0</td>\n",
       "      <td>True</td>\n",
       "      <td>No</td>\n",
       "      <td>DL7C</td>\n",
       "      <td>2018 Hyundai Verna 1.6 VTVT SX</td>\n",
       "    </tr>\n",
       "    <tr>\n",
       "      <th>2</th>\n",
       "      <td>Tata</td>\n",
       "      <td>Harrier XT PLUS 2.0L KRYOTEC DARK EDITON</td>\n",
       "      <td>Manual</td>\n",
       "      <td>2022.0</td>\n",
       "      <td>01-08-2022</td>\n",
       "      <td>Diesel</td>\n",
       "      <td>1956.0</td>\n",
       "      <td>27990.0</td>\n",
       "      <td>1st owner</td>\n",
       "      <td>1489000</td>\n",
       "      <td>28349.0</td>\n",
       "      <td>True</td>\n",
       "      <td>No</td>\n",
       "      <td>HR29</td>\n",
       "      <td>2022 Tata Harrier XT PLUS 2.0L KRYOTEC DARK ED...</td>\n",
       "    </tr>\n",
       "    <tr>\n",
       "      <th>3</th>\n",
       "      <td>Honda</td>\n",
       "      <td>City 1.5L I-VTE V CVT</td>\n",
       "      <td>Automatic</td>\n",
       "      <td>2023.0</td>\n",
       "      <td>01-04-2023</td>\n",
       "      <td>Petrol</td>\n",
       "      <td>1498.0</td>\n",
       "      <td>5061.0</td>\n",
       "      <td>1st owner</td>\n",
       "      <td>1227000</td>\n",
       "      <td>23355.0</td>\n",
       "      <td>True</td>\n",
       "      <td>Yes</td>\n",
       "      <td>DL4C</td>\n",
       "      <td>2023 Honda City 1.5L I-VTE V CVT</td>\n",
       "    </tr>\n",
       "    <tr>\n",
       "      <th>4</th>\n",
       "      <td>Ford</td>\n",
       "      <td>Ecosport TITANIUM 1.5L DIESEL</td>\n",
       "      <td>Manual</td>\n",
       "      <td>2021.0</td>\n",
       "      <td>01-07-2021</td>\n",
       "      <td>Diesel</td>\n",
       "      <td>1498.0</td>\n",
       "      <td>23480.0</td>\n",
       "      <td>1st owner</td>\n",
       "      <td>887000</td>\n",
       "      <td>16883.0</td>\n",
       "      <td>True</td>\n",
       "      <td>No</td>\n",
       "      <td>UP14</td>\n",
       "      <td>2021 Ford Ecosport TITANIUM 1.5L DIESEL</td>\n",
       "    </tr>\n",
       "  </tbody>\n",
       "</table>\n",
       "</div>"
      ],
      "text/plain": [
       "      brand                                     model transmission  make_year  \\\n",
       "0  Mahindra              Thar LX D 4WD MT CONVERTIBLE       Manual     2020.0   \n",
       "1   Hyundai                         Verna 1.6 VTVT SX       Manual     2018.0   \n",
       "2      Tata  Harrier XT PLUS 2.0L KRYOTEC DARK EDITON       Manual     2022.0   \n",
       "3     Honda                     City 1.5L I-VTE V CVT    Automatic     2023.0   \n",
       "4      Ford             Ecosport TITANIUM 1.5L DIESEL       Manual     2021.0   \n",
       "\n",
       "     reg_year fuel_type  engine_capacity(CC)  km_driven  ownership    price  \\\n",
       "0  01-01-2021    Diesel               2184.0    11003.0  1st owner  1231000   \n",
       "1  01-07-2018    Petrol               1591.0    66936.0  1st owner   786000   \n",
       "2  01-08-2022    Diesel               1956.0    27990.0  1st owner  1489000   \n",
       "3  01-04-2023    Petrol               1498.0     5061.0  1st owner  1227000   \n",
       "4  01-07-2021    Diesel               1498.0    23480.0  1st owner   887000   \n",
       "\n",
       "   overall_cost has_insurance spare_key reg_number  \\\n",
       "0       23431.0          True        No       HR26   \n",
       "1       15359.0          True        No       DL7C   \n",
       "2       28349.0          True        No       HR29   \n",
       "3       23355.0          True       Yes       DL4C   \n",
       "4       16883.0          True        No       UP14   \n",
       "\n",
       "                                               title  \n",
       "0         2020 Mahindra Thar LX D 4WD MT CONVERTIBLE  \n",
       "1                     2018 Hyundai Verna 1.6 VTVT SX  \n",
       "2  2022 Tata Harrier XT PLUS 2.0L KRYOTEC DARK ED...  \n",
       "3                   2023 Honda City 1.5L I-VTE V CVT  \n",
       "4            2021 Ford Ecosport TITANIUM 1.5L DIESEL  "
      ]
     },
     "execution_count": 58,
     "metadata": {},
     "output_type": "execute_result"
    }
   ],
   "source": [
    "dataset=pd.read_csv(\"pre-owned cars.csv\")\n",
    "dataset.head()"
   ]
  },
  {
   "cell_type": "code",
   "execution_count": 59,
   "id": "32cdf572-1bad-43f1-8ffa-c5fe81631377",
   "metadata": {},
   "outputs": [
    {
     "data": {
      "text/plain": [
       "brand                     1\n",
       "model                     1\n",
       "transmission              1\n",
       "make_year                 1\n",
       "reg_year               2086\n",
       "fuel_type                 1\n",
       "engine_capacity(CC)     118\n",
       "km_driven                 1\n",
       "ownership                 1\n",
       "price                     0\n",
       "overall_cost              1\n",
       "has_insurance             1\n",
       "spare_key                 1\n",
       "reg_number                1\n",
       "title                     1\n",
       "dtype: int64"
      ]
     },
     "execution_count": 59,
     "metadata": {},
     "output_type": "execute_result"
    }
   ],
   "source": [
    "dataset.isnull().sum()"
   ]
  },
  {
   "cell_type": "code",
   "execution_count": 60,
   "id": "4b242913-2e59-4893-9ccb-375bd0e15bcc",
   "metadata": {},
   "outputs": [
    {
     "data": {
      "text/plain": [
       "brand                   object\n",
       "model                   object\n",
       "transmission            object\n",
       "make_year              float64\n",
       "reg_year                object\n",
       "fuel_type               object\n",
       "engine_capacity(CC)    float64\n",
       "km_driven              float64\n",
       "ownership               object\n",
       "price                    int64\n",
       "overall_cost           float64\n",
       "has_insurance           object\n",
       "spare_key               object\n",
       "reg_number              object\n",
       "title                   object\n",
       "dtype: object"
      ]
     },
     "execution_count": 60,
     "metadata": {},
     "output_type": "execute_result"
    }
   ],
   "source": [
    "dataset.dtypes"
   ]
  },
  {
   "cell_type": "code",
   "execution_count": 61,
   "id": "86cf6f5b-d169-40c9-a85e-8bdcab137565",
   "metadata": {},
   "outputs": [],
   "source": [
    "#filling all columns\n",
    "for i in dataset.select_dtypes(include=\"object\").columns:dataset[i].fillna(dataset[i].mode()[0],inplace=True)"
   ]
  },
  {
   "cell_type": "code",
   "execution_count": 62,
   "id": "0c9bb356-f158-42f1-b0e5-e04202ef797f",
   "metadata": {},
   "outputs": [],
   "source": [
    "for i in dataset.select_dtypes(include=\"float64\").columns:dataset[i].fillna(dataset[i].mode()[0],inplace=True)"
   ]
  },
  {
   "cell_type": "code",
   "execution_count": null,
   "id": "63a8c271-333d-44e7-a54f-b5efaca16729",
   "metadata": {},
   "outputs": [],
   "source": []
  },
  {
   "cell_type": "code",
   "execution_count": 63,
   "id": "fadad316-6ea0-4d9f-8b18-313f7e30e495",
   "metadata": {},
   "outputs": [
    {
     "data": {
      "text/plain": [
       "brand                  0\n",
       "model                  0\n",
       "transmission           0\n",
       "make_year              0\n",
       "reg_year               0\n",
       "fuel_type              0\n",
       "engine_capacity(CC)    0\n",
       "km_driven              0\n",
       "ownership              0\n",
       "price                  0\n",
       "overall_cost           0\n",
       "has_insurance          0\n",
       "spare_key              0\n",
       "reg_number             0\n",
       "title                  0\n",
       "dtype: int64"
      ]
     },
     "execution_count": 63,
     "metadata": {},
     "output_type": "execute_result"
    }
   ],
   "source": [
    "dataset.isnull().sum()"
   ]
  },
  {
   "cell_type": "code",
   "execution_count": 64,
   "id": "d923e441-794b-49b7-9d1f-daf5845e414a",
   "metadata": {},
   "outputs": [
    {
     "data": {
      "text/html": [
       "<div>\n",
       "<style scoped>\n",
       "    .dataframe tbody tr th:only-of-type {\n",
       "        vertical-align: middle;\n",
       "    }\n",
       "\n",
       "    .dataframe tbody tr th {\n",
       "        vertical-align: top;\n",
       "    }\n",
       "\n",
       "    .dataframe thead th {\n",
       "        text-align: right;\n",
       "    }\n",
       "</style>\n",
       "<table border=\"1\" class=\"dataframe\">\n",
       "  <thead>\n",
       "    <tr style=\"text-align: right;\">\n",
       "      <th></th>\n",
       "      <th>make_year</th>\n",
       "      <th>engine_capacity(CC)</th>\n",
       "      <th>km_driven</th>\n",
       "      <th>price</th>\n",
       "      <th>overall_cost</th>\n",
       "    </tr>\n",
       "  </thead>\n",
       "  <tbody>\n",
       "    <tr>\n",
       "      <th>count</th>\n",
       "      <td>2806.000000</td>\n",
       "      <td>2806.000000</td>\n",
       "      <td>2806.000000</td>\n",
       "      <td>2.806000e+03</td>\n",
       "      <td>2806.000000</td>\n",
       "    </tr>\n",
       "    <tr>\n",
       "      <th>mean</th>\n",
       "      <td>2018.180684</td>\n",
       "      <td>1256.419102</td>\n",
       "      <td>49207.775125</td>\n",
       "      <td>1.342522e+06</td>\n",
       "      <td>13493.021383</td>\n",
       "    </tr>\n",
       "    <tr>\n",
       "      <th>std</th>\n",
       "      <td>2.944852</td>\n",
       "      <td>249.405087</td>\n",
       "      <td>26625.312179</td>\n",
       "      <td>3.554669e+07</td>\n",
       "      <td>6040.662772</td>\n",
       "    </tr>\n",
       "    <tr>\n",
       "      <th>min</th>\n",
       "      <td>2010.000000</td>\n",
       "      <td>624.000000</td>\n",
       "      <td>450.000000</td>\n",
       "      <td>1.630000e+05</td>\n",
       "      <td>4039.000000</td>\n",
       "    </tr>\n",
       "    <tr>\n",
       "      <th>25%</th>\n",
       "      <td>2016.000000</td>\n",
       "      <td>1197.000000</td>\n",
       "      <td>28537.750000</td>\n",
       "      <td>4.350000e+05</td>\n",
       "      <td>9267.000000</td>\n",
       "    </tr>\n",
       "    <tr>\n",
       "      <th>50%</th>\n",
       "      <td>2018.000000</td>\n",
       "      <td>1197.000000</td>\n",
       "      <td>45673.000000</td>\n",
       "      <td>5.940000e+05</td>\n",
       "      <td>12144.500000</td>\n",
       "    </tr>\n",
       "    <tr>\n",
       "      <th>75%</th>\n",
       "      <td>2021.000000</td>\n",
       "      <td>1451.000000</td>\n",
       "      <td>68177.750000</td>\n",
       "      <td>8.140000e+05</td>\n",
       "      <td>15760.000000</td>\n",
       "    </tr>\n",
       "    <tr>\n",
       "      <th>max</th>\n",
       "      <td>2024.000000</td>\n",
       "      <td>2694.000000</td>\n",
       "      <td>143991.000000</td>\n",
       "      <td>1.883558e+09</td>\n",
       "      <td>47338.000000</td>\n",
       "    </tr>\n",
       "  </tbody>\n",
       "</table>\n",
       "</div>"
      ],
      "text/plain": [
       "         make_year  engine_capacity(CC)      km_driven         price  \\\n",
       "count  2806.000000          2806.000000    2806.000000  2.806000e+03   \n",
       "mean   2018.180684          1256.419102   49207.775125  1.342522e+06   \n",
       "std       2.944852           249.405087   26625.312179  3.554669e+07   \n",
       "min    2010.000000           624.000000     450.000000  1.630000e+05   \n",
       "25%    2016.000000          1197.000000   28537.750000  4.350000e+05   \n",
       "50%    2018.000000          1197.000000   45673.000000  5.940000e+05   \n",
       "75%    2021.000000          1451.000000   68177.750000  8.140000e+05   \n",
       "max    2024.000000          2694.000000  143991.000000  1.883558e+09   \n",
       "\n",
       "       overall_cost  \n",
       "count   2806.000000  \n",
       "mean   13493.021383  \n",
       "std     6040.662772  \n",
       "min     4039.000000  \n",
       "25%     9267.000000  \n",
       "50%    12144.500000  \n",
       "75%    15760.000000  \n",
       "max    47338.000000  "
      ]
     },
     "execution_count": 64,
     "metadata": {},
     "output_type": "execute_result"
    }
   ],
   "source": [
    "dataset.describe()"
   ]
  },
  {
   "cell_type": "code",
   "execution_count": 65,
   "id": "de155d1e-4afd-4b75-885e-c8ca94f3a3c5",
   "metadata": {},
   "outputs": [
    {
     "data": {
      "image/png": "[encoded data removed]",
      "text/plain": [
       "<Figure size 1000x300 with 1 Axes>"
      ]
     },
     "metadata": {},
     "output_type": "display_data"
    }
   ],
   "source": [
    "plt.figure(figsize=(10,3))\n",
    "sns.boxplot(x=\"engine_capacity(CC)\",data=dataset)\n",
    "plt.show()"
   ]
  },
  {
   "cell_type": "code",
   "execution_count": 66,
   "id": "f944aa9a-390d-429c-bcf2-04604244b2f4",
   "metadata": {},
   "outputs": [
    {
     "data": {
      "image/png": "[encoded data removed]",
      "text/plain": [
       "<Figure size 1000x300 with 1 Axes>"
      ]
     },
     "metadata": {},
     "output_type": "display_data"
    }
   ],
   "source": [
    "plt.figure(figsize=(10,3))\n",
    "sns.boxplot(x=\"price\",data=dataset)\n",
    "plt.show()"
   ]
  },
  {
   "cell_type": "code",
   "execution_count": 137,
   "id": "f2b46d0e-5367-42d8-a36b-7f89c02beb81",
   "metadata": {},
   "outputs": [
    {
     "data": {
      "image/png": "[encoded data removed]",
      "text/plain": [
       "<Figure size 1000x300 with 1 Axes>"
      ]
     },
     "metadata": {},
     "output_type": "display_data"
    }
   ],
   "source": [
    "plt.figure(figsize=(10,3))\n",
    "sns.boxplot(x=\"km_driven\",data=dataset)\n",
    "plt.show()"
   ]
  },
  {
   "cell_type": "code",
   "execution_count": 68,
   "id": "058669bd-1a4e-4eda-8b34-b7e893630897",
   "metadata": {},
   "outputs": [
    {
     "data": {
      "image/png": "[encoded data removed]",
      "text/plain": [
       "<Figure size 1000x300 with 1 Axes>"
      ]
     },
     "metadata": {},
     "output_type": "display_data"
    }
   ],
   "source": [
    "plt.figure(figsize=(10,3))\n",
    "sns.boxplot(x=\"overall_cost\",data=dataset)\n",
    "plt.show()"
   ]
  },
  {
   "cell_type": "code",
   "execution_count": 69,
   "id": "6d9fa023-d5ac-4d23-a1ba-b61e2c469587",
   "metadata": {},
   "outputs": [
    {
     "data": {
      "image/png": "[encoded data removed]",
      "text/plain": [
       "<Figure size 1000x300 with 1 Axes>"
      ]
     },
     "metadata": {},
     "output_type": "display_data"
    }
   ],
   "source": [
    "plt.figure(figsize=(10,3))\n",
    "sns.boxplot(x=\"make_year\",data=dataset)\n",
    "plt.show()\n"
   ]
  },
  {
   "cell_type": "code",
   "execution_count": 70,
   "id": "793a2df2-71b6-4ecf-ad55-93580a844e2d",
   "metadata": {},
   "outputs": [
    {
     "data": {
      "text/plain": [
       "1197.0"
      ]
     },
     "execution_count": 70,
     "metadata": {},
     "output_type": "execute_result"
    }
   ],
   "source": [
    "q1=dataset[\"engine_capacity(CC)\"].quantile(0.25)\n",
    "q1"
   ]
  },
  {
   "cell_type": "code",
   "execution_count": 71,
   "id": "0e033f16-846f-4c29-a4de-fa605044759c",
   "metadata": {},
   "outputs": [
    {
     "data": {
      "text/plain": [
       "1451.0"
      ]
     },
     "execution_count": 71,
     "metadata": {},
     "output_type": "execute_result"
    }
   ],
   "source": [
    "q3=dataset[\"engine_capacity(CC)\"].quantile(0.75)\n",
    "q3"
   ]
  },
  {
   "cell_type": "code",
   "execution_count": 72,
   "id": "a0c45437-949e-465e-b1bc-13c4f125cd3f",
   "metadata": {},
   "outputs": [
    {
     "data": {
      "text/plain": [
       "254.0"
      ]
     },
     "execution_count": 72,
     "metadata": {},
     "output_type": "execute_result"
    }
   ],
   "source": [
    "iqr=q3-q1\n",
    "iqr"
   ]
  },
  {
   "cell_type": "code",
   "execution_count": 73,
   "id": "45af1d42-d316-40be-b326-186375a49057",
   "metadata": {},
   "outputs": [],
   "source": [
    "min_range=q1-(1.5*iqr)\n",
    "max_range=q3+(1.5*iqr)"
   ]
  },
  {
   "cell_type": "code",
   "execution_count": 74,
   "id": "5b943c05-8c8b-4b5d-8621-274d7c10aba7",
   "metadata": {},
   "outputs": [],
   "source": [
    "new_dss=dataset[dataset[\"engine_capacity(CC)\"]<=max_range]"
   ]
  },
  {
   "cell_type": "code",
   "execution_count": 75,
   "id": "8aaf01d5-6134-44b1-adea-c4f9df3168dd",
   "metadata": {},
   "outputs": [
    {
     "data": {
      "text/plain": [
       "(2701, 15)"
      ]
     },
     "execution_count": 75,
     "metadata": {},
     "output_type": "execute_result"
    }
   ],
   "source": [
    " new_dss.shape"
   ]
  },
  {
   "cell_type": "code",
   "execution_count": 76,
   "id": "3f095923-c09a-4c9f-891a-d99dac934415",
   "metadata": {},
   "outputs": [
    {
     "data": {
      "image/png": "[encoded data removed]",
      "text/plain": [
       "<Figure size 1000x300 with 1 Axes>"
      ]
     },
     "metadata": {},
     "output_type": "display_data"
    }
   ],
   "source": [
    "plt.figure(figsize=(10,3))\n",
    "sns.boxplot(x=\"engine_capacity(CC)\",data=new_dss)\n",
    "plt.show()"
   ]
  },
  {
   "cell_type": "code",
   "execution_count": 77,
   "id": "1ac3540c-f43d-4dab-9919-9b90e58bf0e7",
   "metadata": {},
   "outputs": [
    {
     "data": {
      "text/plain": [
       "9267.0"
      ]
     },
     "execution_count": 77,
     "metadata": {},
     "output_type": "execute_result"
    }
   ],
   "source": [
    "a1=dataset[\"overall_cost\"].quantile(0.25)\n",
    "a1"
   ]
  },
  {
   "cell_type": "code",
   "execution_count": 78,
   "id": "3ec20daf-7428-49cd-9524-e9db529d9174",
   "metadata": {},
   "outputs": [
    {
     "data": {
      "text/plain": [
       "15760.0"
      ]
     },
     "execution_count": 78,
     "metadata": {},
     "output_type": "execute_result"
    }
   ],
   "source": [
    "a3=dataset[\"overall_cost\"].quantile(0.75)\n",
    "a3"
   ]
  },
  {
   "cell_type": "code",
   "execution_count": 79,
   "id": "2e999bdc-0015-4ee1-9e89-b0e3d3919801",
   "metadata": {},
   "outputs": [
    {
     "data": {
      "text/plain": [
       "6493.0"
      ]
     },
     "execution_count": 79,
     "metadata": {},
     "output_type": "execute_result"
    }
   ],
   "source": [
    "iqr=a3-a1\n",
    "iqr"
   ]
  },
  {
   "cell_type": "code",
   "execution_count": 80,
   "id": "e76207af-6c02-4833-b4bb-8283c7c6b9d4",
   "metadata": {},
   "outputs": [],
   "source": [
    "min_range=a1-(1.5*iqr)\n",
    "max_range=a3+(1.5*iqr)"
   ]
  },
  {
   "cell_type": "code",
   "execution_count": 81,
   "id": "5b5c1999-4d27-44f7-b4f7-0bdc22b09aee",
   "metadata": {},
   "outputs": [],
   "source": [
    "new_ds1=dataset[dataset[\"overall_cost\"]<=max_range]"
   ]
  },
  {
   "cell_type": "code",
   "execution_count": 82,
   "id": "fb15c26c-0440-43c0-a7ab-2eb06aab971b",
   "metadata": {},
   "outputs": [
    {
     "data": {
      "text/plain": [
       "(2638, 15)"
      ]
     },
     "execution_count": 82,
     "metadata": {},
     "output_type": "execute_result"
    }
   ],
   "source": [
    "new_ds1.shape"
   ]
  },
  {
   "cell_type": "code",
   "execution_count": 83,
   "id": "8a5dd678-340d-4200-8b36-e4b8671f4d0d",
   "metadata": {},
   "outputs": [
    {
     "data": {
      "image/png": "[encoded data removed]",
      "text/plain": [
       "<Figure size 1000x300 with 1 Axes>"
      ]
     },
     "metadata": {},
     "output_type": "display_data"
    }
   ],
   "source": [
    "plt.figure(figsize=(10,3))\n",
    "sns.boxplot(x=\"overall_cost\",data=new_ds1)\n",
    "plt.show()"
   ]
  },
  {
   "cell_type": "code",
   "execution_count": 84,
   "id": "80d4591b-8d9a-4e76-88ee-8597baba6018",
   "metadata": {},
   "outputs": [
    {
     "data": {
      "text/plain": [
       "435000.0"
      ]
     },
     "execution_count": 84,
     "metadata": {},
     "output_type": "execute_result"
    }
   ],
   "source": [
    "b1=dataset[\"price\"].quantile(0.25)\n",
    "b1"
   ]
  },
  {
   "cell_type": "code",
   "execution_count": 85,
   "id": "a51bb1a0-2da3-45d0-947f-aa9a9ece9202",
   "metadata": {},
   "outputs": [
    {
     "data": {
      "text/plain": [
       "814000.0"
      ]
     },
     "execution_count": 85,
     "metadata": {},
     "output_type": "execute_result"
    }
   ],
   "source": [
    "b3=dataset[\"price\"].quantile(0.75)\n",
    "b3"
   ]
  },
  {
   "cell_type": "code",
   "execution_count": 86,
   "id": "e7a21a6d-1b13-4425-be42-4a2e726b8431",
   "metadata": {},
   "outputs": [
    {
     "data": {
      "text/plain": [
       "379000.0"
      ]
     },
     "execution_count": 86,
     "metadata": {},
     "output_type": "execute_result"
    }
   ],
   "source": [
    "iqr=b3-b1\n",
    "iqr"
   ]
  },
  {
   "cell_type": "code",
   "execution_count": 87,
   "id": "2f3637aa-e704-456a-a940-ca9438999bbb",
   "metadata": {},
   "outputs": [],
   "source": [
    "min_range=b1-(1.5*iqr)\n",
    "max_range=b3+(1.5*iqr)"
   ]
  },
  {
   "cell_type": "code",
   "execution_count": 88,
   "id": "d0ab8e7c-842b-48c3-b4dd-17a1ec4ba4a1",
   "metadata": {},
   "outputs": [],
   "source": [
    "new_ds2=dataset[dataset[\"price\"]<=max_range]"
   ]
  },
  {
   "cell_type": "code",
   "execution_count": 89,
   "id": "8d18fe0b-4bfd-4370-b25b-833557955581",
   "metadata": {},
   "outputs": [
    {
     "data": {
      "text/plain": [
       "(2663, 15)"
      ]
     },
     "execution_count": 89,
     "metadata": {},
     "output_type": "execute_result"
    }
   ],
   "source": [
    "new_ds2.shape"
   ]
  },
  {
   "cell_type": "code",
   "execution_count": null,
   "id": "3957366a-f4b6-401c-bc6e-dd066dc53648",
   "metadata": {},
   "outputs": [],
   "source": []
  },
  {
   "cell_type": "code",
   "execution_count": 90,
   "id": "52e2b405-f2e2-41b6-957a-2fb54ea997da",
   "metadata": {},
   "outputs": [
    {
     "data": {
      "image/png": "[encoded data removed]",
      "text/plain": [
       "<Figure size 1000x300 with 1 Axes>"
      ]
     },
     "metadata": {},
     "output_type": "display_data"
    }
   ],
   "source": [
    "plt.figure(figsize=(10,3))\n",
    "sns.boxplot(x=\"price\",data=new_ds2)\n",
    "plt.show()"
   ]
  },
  {
   "cell_type": "code",
   "execution_count": 91,
   "id": "09403024-b8da-46c3-8018-236fe489bd4d",
   "metadata": {},
   "outputs": [
    {
     "data": {
      "text/plain": [
       "28537.75"
      ]
     },
     "execution_count": 91,
     "metadata": {},
     "output_type": "execute_result"
    }
   ],
   "source": [
    "c1=dataset[\"km_driven\"].quantile(0.25)\n",
    "c1"
   ]
  },
  {
   "cell_type": "code",
   "execution_count": 92,
   "id": "ba28d0d4-8c72-4442-ada8-44d1f77466e5",
   "metadata": {},
   "outputs": [
    {
     "data": {
      "text/plain": [
       "68177.75"
      ]
     },
     "execution_count": 92,
     "metadata": {},
     "output_type": "execute_result"
    }
   ],
   "source": [
    "c3=dataset[\"km_driven\"].quantile(0.75)\n",
    "c3"
   ]
  },
  {
   "cell_type": "code",
   "execution_count": 93,
   "id": "eb7e6bca-664e-4bef-b42d-6bcce7ecd5da",
   "metadata": {},
   "outputs": [
    {
     "data": {
      "text/plain": [
       "39640.0"
      ]
     },
     "execution_count": 93,
     "metadata": {},
     "output_type": "execute_result"
    }
   ],
   "source": [
    "iqr=c3-c1\n",
    "iqr"
   ]
  },
  {
   "cell_type": "code",
   "execution_count": 94,
   "id": "8f1a36cd-3452-4ccc-8441-98a71292b7fd",
   "metadata": {},
   "outputs": [],
   "source": [
    "min_range=c1-(1.5*iqr)\n",
    "max_range=c3+(1.5*iqr)"
   ]
  },
  {
   "cell_type": "code",
   "execution_count": 95,
   "id": "90218874-0253-41eb-b24a-ec7697f0fc92",
   "metadata": {},
   "outputs": [],
   "source": [
    "new_ds3=dataset[dataset[\"km_driven\"]<=max_range]"
   ]
  },
  {
   "cell_type": "code",
   "execution_count": 96,
   "id": "4c0848db-8cef-439b-88ef-f7825b391e82",
   "metadata": {},
   "outputs": [
    {
     "data": {
      "image/png": "[encoded data removed]",
      "text/plain": [
       "<Figure size 1000x300 with 1 Axes>"
      ]
     },
     "metadata": {},
     "output_type": "display_data"
    }
   ],
   "source": [
    "plt.figure(figsize=(10,3))\n",
    "sns.boxplot(x=\"km_driven\",data=new_ds3)\n",
    "plt.show()"
   ]
  },
  {
   "cell_type": "code",
   "execution_count": null,
   "id": "d152436d-c2e5-49cd-9477-32bd1491e2f6",
   "metadata": {},
   "outputs": [],
   "source": []
  },
  {
   "cell_type": "code",
   "execution_count": null,
   "id": "c5858163-173d-4b6e-9389-d102a82e1ab4",
   "metadata": {},
   "outputs": [],
   "source": []
  },
  {
   "cell_type": "code",
   "execution_count": 97,
   "id": "226b33a9-ea80-40af-bee5-c80895e43d36",
   "metadata": {},
   "outputs": [
    {
     "data": {
      "text/html": [
       "<div>\n",
       "<style scoped>\n",
       "    .dataframe tbody tr th:only-of-type {\n",
       "        vertical-align: middle;\n",
       "    }\n",
       "\n",
       "    .dataframe tbody tr th {\n",
       "        vertical-align: top;\n",
       "    }\n",
       "\n",
       "    .dataframe thead th {\n",
       "        text-align: right;\n",
       "    }\n",
       "</style>\n",
       "<table border=\"1\" class=\"dataframe\">\n",
       "  <thead>\n",
       "    <tr style=\"text-align: right;\">\n",
       "      <th></th>\n",
       "      <th>make_year</th>\n",
       "      <th>engine_capacity(CC)</th>\n",
       "      <th>km_driven</th>\n",
       "      <th>price</th>\n",
       "      <th>overall_cost</th>\n",
       "    </tr>\n",
       "  </thead>\n",
       "  <tbody>\n",
       "    <tr>\n",
       "      <th>count</th>\n",
       "      <td>2806.000000</td>\n",
       "      <td>2806.000000</td>\n",
       "      <td>2806.000000</td>\n",
       "      <td>2.806000e+03</td>\n",
       "      <td>2806.000000</td>\n",
       "    </tr>\n",
       "    <tr>\n",
       "      <th>mean</th>\n",
       "      <td>2018.180684</td>\n",
       "      <td>1256.419102</td>\n",
       "      <td>49207.775125</td>\n",
       "      <td>1.342522e+06</td>\n",
       "      <td>13493.021383</td>\n",
       "    </tr>\n",
       "    <tr>\n",
       "      <th>std</th>\n",
       "      <td>2.944852</td>\n",
       "      <td>249.405087</td>\n",
       "      <td>26625.312179</td>\n",
       "      <td>3.554669e+07</td>\n",
       "      <td>6040.662772</td>\n",
       "    </tr>\n",
       "    <tr>\n",
       "      <th>min</th>\n",
       "      <td>2010.000000</td>\n",
       "      <td>624.000000</td>\n",
       "      <td>450.000000</td>\n",
       "      <td>1.630000e+05</td>\n",
       "      <td>4039.000000</td>\n",
       "    </tr>\n",
       "    <tr>\n",
       "      <th>25%</th>\n",
       "      <td>2016.000000</td>\n",
       "      <td>1197.000000</td>\n",
       "      <td>28537.750000</td>\n",
       "      <td>4.350000e+05</td>\n",
       "      <td>9267.000000</td>\n",
       "    </tr>\n",
       "    <tr>\n",
       "      <th>50%</th>\n",
       "      <td>2018.000000</td>\n",
       "      <td>1197.000000</td>\n",
       "      <td>45673.000000</td>\n",
       "      <td>5.940000e+05</td>\n",
       "      <td>12144.500000</td>\n",
       "    </tr>\n",
       "    <tr>\n",
       "      <th>75%</th>\n",
       "      <td>2021.000000</td>\n",
       "      <td>1451.000000</td>\n",
       "      <td>68177.750000</td>\n",
       "      <td>8.140000e+05</td>\n",
       "      <td>15760.000000</td>\n",
       "    </tr>\n",
       "    <tr>\n",
       "      <th>max</th>\n",
       "      <td>2024.000000</td>\n",
       "      <td>2694.000000</td>\n",
       "      <td>143991.000000</td>\n",
       "      <td>1.883558e+09</td>\n",
       "      <td>47338.000000</td>\n",
       "    </tr>\n",
       "  </tbody>\n",
       "</table>\n",
       "</div>"
      ],
      "text/plain": [
       "         make_year  engine_capacity(CC)      km_driven         price  \\\n",
       "count  2806.000000          2806.000000    2806.000000  2.806000e+03   \n",
       "mean   2018.180684          1256.419102   49207.775125  1.342522e+06   \n",
       "std       2.944852           249.405087   26625.312179  3.554669e+07   \n",
       "min    2010.000000           624.000000     450.000000  1.630000e+05   \n",
       "25%    2016.000000          1197.000000   28537.750000  4.350000e+05   \n",
       "50%    2018.000000          1197.000000   45673.000000  5.940000e+05   \n",
       "75%    2021.000000          1451.000000   68177.750000  8.140000e+05   \n",
       "max    2024.000000          2694.000000  143991.000000  1.883558e+09   \n",
       "\n",
       "       overall_cost  \n",
       "count   2806.000000  \n",
       "mean   13493.021383  \n",
       "std     6040.662772  \n",
       "min     4039.000000  \n",
       "25%     9267.000000  \n",
       "50%    12144.500000  \n",
       "75%    15760.000000  \n",
       "max    47338.000000  "
      ]
     },
     "execution_count": 97,
     "metadata": {},
     "output_type": "execute_result"
    }
   ],
   "source": [
    "dataset.describe()"
   ]
  },
  {
   "cell_type": "code",
   "execution_count": null,
   "id": "afc3e6b2-a747-44bb-a170-14dbdd52b93d",
   "metadata": {},
   "outputs": [],
   "source": [
    "dataset.head()"
   ]
  },
  {
   "cell_type": "code",
   "execution_count": null,
   "id": "b205e1f3-8a1f-45d3-be9c-8c6c8e6f1de9",
   "metadata": {},
   "outputs": [],
   "source": [
    "dataset.head(10)"
   ]
  },
  {
   "cell_type": "code",
   "execution_count": 104,
   "id": "579544d5-b5d2-470a-a908-86c2984f81c2",
   "metadata": {},
   "outputs": [],
   "source": [
    "from sklearn.preprocessing import LabelEncoder"
   ]
  },
  {
   "cell_type": "code",
   "execution_count": 105,
   "id": "cc4aa574-ad54-431f-98b0-cfca598a4585",
   "metadata": {},
   "outputs": [],
   "source": [
    "la=LabelEncoder()\n",
    "la.fit(dataset[\"title\"])\n",
    "dataset[\"title\"]=la.transform(dataset[\"title\"])"
   ]
  },
  {
   "cell_type": "code",
   "execution_count": null,
   "id": "af39a4eb-35ac-4ebd-b3c2-5ab852fa6222",
   "metadata": {},
   "outputs": [],
   "source": []
  },
  {
   "cell_type": "code",
   "execution_count": null,
   "id": "5f1ff265-545c-4b24-b19e-f8a4e64b3934",
   "metadata": {},
   "outputs": [],
   "source": []
  },
  {
   "cell_type": "code",
   "execution_count": 106,
   "id": "30ac7e6b-a317-4328-a200-e3c0233776a4",
   "metadata": {},
   "outputs": [],
   "source": [
    "la1=LabelEncoder()\n",
    "la1.fit(dataset[\"model\"])\n",
    "dataset[\"models\"]=la1.transform(dataset[\"model\"])"
   ]
  },
  {
   "cell_type": "code",
   "execution_count": 107,
   "id": "f2e589a4-76da-414f-96b0-0810f06a4baa",
   "metadata": {},
   "outputs": [
    {
     "data": {
      "text/html": [
       "<div>\n",
       "<style scoped>\n",
       "    .dataframe tbody tr th:only-of-type {\n",
       "        vertical-align: middle;\n",
       "    }\n",
       "\n",
       "    .dataframe tbody tr th {\n",
       "        vertical-align: top;\n",
       "    }\n",
       "\n",
       "    .dataframe thead th {\n",
       "        text-align: right;\n",
       "    }\n",
       "</style>\n",
       "<table border=\"1\" class=\"dataframe\">\n",
       "  <thead>\n",
       "    <tr style=\"text-align: right;\">\n",
       "      <th></th>\n",
       "      <th>brand</th>\n",
       "      <th>model</th>\n",
       "      <th>transmission</th>\n",
       "      <th>make_year</th>\n",
       "      <th>reg_year</th>\n",
       "      <th>fuel_type</th>\n",
       "      <th>engine_capacity(CC)</th>\n",
       "      <th>km_driven</th>\n",
       "      <th>ownership</th>\n",
       "      <th>price</th>\n",
       "      <th>overall_cost</th>\n",
       "      <th>has_insurance</th>\n",
       "      <th>spare_key</th>\n",
       "      <th>reg_number</th>\n",
       "      <th>title</th>\n",
       "      <th>models</th>\n",
       "    </tr>\n",
       "  </thead>\n",
       "  <tbody>\n",
       "    <tr>\n",
       "      <th>0</th>\n",
       "      <td>Mahindra</td>\n",
       "      <td>Thar LX D 4WD MT CONVERTIBLE</td>\n",
       "      <td>Manual</td>\n",
       "      <td>2020.0</td>\n",
       "      <td>01-01-2021</td>\n",
       "      <td>Diesel</td>\n",
       "      <td>2184.0</td>\n",
       "      <td>11003.0</td>\n",
       "      <td>1st owner</td>\n",
       "      <td>1231000</td>\n",
       "      <td>23431.0</td>\n",
       "      <td>True</td>\n",
       "      <td>No</td>\n",
       "      <td>HR26</td>\n",
       "      <td>946</td>\n",
       "      <td>656</td>\n",
       "    </tr>\n",
       "    <tr>\n",
       "      <th>1</th>\n",
       "      <td>Hyundai</td>\n",
       "      <td>Verna 1.6 VTVT SX</td>\n",
       "      <td>Manual</td>\n",
       "      <td>2018.0</td>\n",
       "      <td>01-07-2018</td>\n",
       "      <td>Petrol</td>\n",
       "      <td>1591.0</td>\n",
       "      <td>66936.0</td>\n",
       "      <td>1st owner</td>\n",
       "      <td>786000</td>\n",
       "      <td>15359.0</td>\n",
       "      <td>True</td>\n",
       "      <td>No</td>\n",
       "      <td>DL7C</td>\n",
       "      <td>580</td>\n",
       "      <td>705</td>\n",
       "    </tr>\n",
       "    <tr>\n",
       "      <th>2</th>\n",
       "      <td>Tata</td>\n",
       "      <td>Harrier XT PLUS 2.0L KRYOTEC DARK EDITON</td>\n",
       "      <td>Manual</td>\n",
       "      <td>2022.0</td>\n",
       "      <td>01-08-2022</td>\n",
       "      <td>Diesel</td>\n",
       "      <td>1956.0</td>\n",
       "      <td>27990.0</td>\n",
       "      <td>1st owner</td>\n",
       "      <td>1489000</td>\n",
       "      <td>28349.0</td>\n",
       "      <td>True</td>\n",
       "      <td>No</td>\n",
       "      <td>HR29</td>\n",
       "      <td>1389</td>\n",
       "      <td>324</td>\n",
       "    </tr>\n",
       "    <tr>\n",
       "      <th>3</th>\n",
       "      <td>Honda</td>\n",
       "      <td>City 1.5L I-VTE V CVT</td>\n",
       "      <td>Automatic</td>\n",
       "      <td>2023.0</td>\n",
       "      <td>01-04-2023</td>\n",
       "      <td>Petrol</td>\n",
       "      <td>1498.0</td>\n",
       "      <td>5061.0</td>\n",
       "      <td>1st owner</td>\n",
       "      <td>1227000</td>\n",
       "      <td>23355.0</td>\n",
       "      <td>True</td>\n",
       "      <td>Yes</td>\n",
       "      <td>DL4C</td>\n",
       "      <td>1442</td>\n",
       "      <td>131</td>\n",
       "    </tr>\n",
       "    <tr>\n",
       "      <th>4</th>\n",
       "      <td>Ford</td>\n",
       "      <td>Ecosport TITANIUM 1.5L DIESEL</td>\n",
       "      <td>Manual</td>\n",
       "      <td>2021.0</td>\n",
       "      <td>01-07-2021</td>\n",
       "      <td>Diesel</td>\n",
       "      <td>1498.0</td>\n",
       "      <td>23480.0</td>\n",
       "      <td>1st owner</td>\n",
       "      <td>887000</td>\n",
       "      <td>16883.0</td>\n",
       "      <td>True</td>\n",
       "      <td>No</td>\n",
       "      <td>UP14</td>\n",
       "      <td>1038</td>\n",
       "      <td>212</td>\n",
       "    </tr>\n",
       "  </tbody>\n",
       "</table>\n",
       "</div>"
      ],
      "text/plain": [
       "      brand                                     model transmission  make_year  \\\n",
       "0  Mahindra              Thar LX D 4WD MT CONVERTIBLE       Manual     2020.0   \n",
       "1   Hyundai                         Verna 1.6 VTVT SX       Manual     2018.0   \n",
       "2      Tata  Harrier XT PLUS 2.0L KRYOTEC DARK EDITON       Manual     2022.0   \n",
       "3     Honda                     City 1.5L I-VTE V CVT    Automatic     2023.0   \n",
       "4      Ford             Ecosport TITANIUM 1.5L DIESEL       Manual     2021.0   \n",
       "\n",
       "     reg_year fuel_type  engine_capacity(CC)  km_driven  ownership    price  \\\n",
       "0  01-01-2021    Diesel               2184.0    11003.0  1st owner  1231000   \n",
       "1  01-07-2018    Petrol               1591.0    66936.0  1st owner   786000   \n",
       "2  01-08-2022    Diesel               1956.0    27990.0  1st owner  1489000   \n",
       "3  01-04-2023    Petrol               1498.0     5061.0  1st owner  1227000   \n",
       "4  01-07-2021    Diesel               1498.0    23480.0  1st owner   887000   \n",
       "\n",
       "   overall_cost  has_insurance spare_key reg_number  title  models  \n",
       "0       23431.0           True        No       HR26    946     656  \n",
       "1       15359.0           True        No       DL7C    580     705  \n",
       "2       28349.0           True        No       HR29   1389     324  \n",
       "3       23355.0           True       Yes       DL4C   1442     131  \n",
       "4       16883.0           True        No       UP14   1038     212  "
      ]
     },
     "execution_count": 107,
     "metadata": {},
     "output_type": "execute_result"
    }
   ],
   "source": [
    "dataset.head()"
   ]
  },
  {
   "cell_type": "code",
   "execution_count": 108,
   "id": "4f368938-5333-481d-a4c7-b33a087ab70e",
   "metadata": {},
   "outputs": [],
   "source": [
    "dataset.drop(columns=[\"model\"],inplace=True)"
   ]
  },
  {
   "cell_type": "code",
   "execution_count": 109,
   "id": "7f917564-c560-4e36-a35f-7e98f4e19c68",
   "metadata": {},
   "outputs": [],
   "source": [
    "dataset.drop(columns=[\"title\"],inplace=True)"
   ]
  },
  {
   "cell_type": "code",
   "execution_count": 110,
   "id": "5e16c788-fdf6-4812-ac96-f8bfc36e386c",
   "metadata": {},
   "outputs": [],
   "source": [
    "la2=LabelEncoder()\n",
    "la2.fit(dataset[\"transmission\"])\n",
    "dataset[\"transmissions\"]=la2.transform(dataset[\"transmission\"])"
   ]
  },
  {
   "cell_type": "code",
   "execution_count": 111,
   "id": "5108500d-106c-4bfd-87bd-84dd52a602f6",
   "metadata": {},
   "outputs": [],
   "source": [
    "dataset.drop(columns=[\"transmission\"],inplace=True)"
   ]
  },
  {
   "cell_type": "code",
   "execution_count": null,
   "id": "f1e4543b-f88f-4b84-812b-f7811c309816",
   "metadata": {},
   "outputs": [],
   "source": [
    "dataset.describe()"
   ]
  },
  {
   "cell_type": "code",
   "execution_count": 112,
   "id": "73ce1dd7-1816-4807-bc5c-ab4b77e9b638",
   "metadata": {},
   "outputs": [],
   "source": [
    "from sklearn.preprocessing import LabelEncoder"
   ]
  },
  {
   "cell_type": "code",
   "execution_count": 113,
   "id": "66c50d47-5cef-469e-8bdd-2601dc58793c",
   "metadata": {},
   "outputs": [],
   "source": [
    "la3=LabelEncoder()\n",
    "la3.fit(dataset[\"ownership\"])\n",
    "dataset[\"ownership\"]=la3.transform(dataset[\"ownership\"])"
   ]
  },
  {
   "cell_type": "code",
   "execution_count": 114,
   "id": "c208b218-6684-4cb9-91b3-893ca613ad52",
   "metadata": {},
   "outputs": [],
   "source": [
    "dataset.drop(dataset[\"ownership\"],inplace=True)"
   ]
  },
  {
   "cell_type": "code",
   "execution_count": 115,
   "id": "96fe95f8-4aba-4f76-ba88-7b1929871ff2",
   "metadata": {},
   "outputs": [],
   "source": [
    "la3=LabelEncoder()\n",
    "la3.fit(dataset[\"brand\"])\n",
    "dataset[\"brand\"]=la3.transform(dataset[\"brand\"])"
   ]
  },
  {
   "cell_type": "code",
   "execution_count": 116,
   "id": "7b7c7826-aeea-4433-8dfe-c00deb55829d",
   "metadata": {},
   "outputs": [],
   "source": [
    "la3=LabelEncoder()\n",
    "la3.fit(dataset[\"fuel_type\"])\n",
    "dataset[\"fuel_type\"]=la3.transform(dataset[\"fuel_type\"])"
   ]
  },
  {
   "cell_type": "code",
   "execution_count": null,
   "id": "68c4f334-e48e-4b1d-b0fe-5b24518a267e",
   "metadata": {},
   "outputs": [],
   "source": [
    "#en_data=dataset[[\"has_insurance\",\"spare_key\"]]\n",
    "p#d.get_dummies(en_data).info()"
   ]
  },
  {
   "cell_type": "code",
   "execution_count": null,
   "id": "0adf78c5-9b2b-4bfe-81c4-f5c3c502c33e",
   "metadata": {},
   "outputs": [],
   "source": [
    "#from sklearn.preprocessing import OneHotEncoder\n",
    "#ohe=OneHotEncoder(drop=\"first\")\n",
    "#ar=ohe.fit_transform(en_data).toarray()\n",
    "#pd.DataFrame(ar,columns=[\"has_insurance\",\" spare_key_No\",\" spare_key_Yes\"])"
   ]
  },
  {
   "cell_type": "code",
   "execution_count": 117,
   "id": "5070b9b9-1da9-4c93-8202-ab5606768542",
   "metadata": {},
   "outputs": [],
   "source": [
    "la3=LabelEncoder()\n",
    "la3.fit(dataset[\"has_insurance\"])\n",
    "dataset[\"has_insurance\"]=la3.transform(dataset[\"has_insurance\"])"
   ]
  },
  {
   "cell_type": "code",
   "execution_count": 118,
   "id": "29fb2bbd-c003-4951-b1ea-64ba66333939",
   "metadata": {},
   "outputs": [],
   "source": [
    "la3=LabelEncoder()\n",
    "la3.fit(dataset[\"spare_key\"])\n",
    "dataset[\"spare_key\"]=la3.transform(dataset[\"spare_key\"])"
   ]
  },
  {
   "cell_type": "code",
   "execution_count": 119,
   "id": "8b15a457-46d2-4eda-9721-9dca81aaafd1",
   "metadata": {},
   "outputs": [
    {
     "data": {
      "text/html": [
       "<div>\n",
       "<style scoped>\n",
       "    .dataframe tbody tr th:only-of-type {\n",
       "        vertical-align: middle;\n",
       "    }\n",
       "\n",
       "    .dataframe tbody tr th {\n",
       "        vertical-align: top;\n",
       "    }\n",
       "\n",
       "    .dataframe thead th {\n",
       "        text-align: right;\n",
       "    }\n",
       "</style>\n",
       "<table border=\"1\" class=\"dataframe\">\n",
       "  <thead>\n",
       "    <tr style=\"text-align: right;\">\n",
       "      <th></th>\n",
       "      <th>brand</th>\n",
       "      <th>make_year</th>\n",
       "      <th>reg_year</th>\n",
       "      <th>fuel_type</th>\n",
       "      <th>engine_capacity(CC)</th>\n",
       "      <th>km_driven</th>\n",
       "      <th>ownership</th>\n",
       "      <th>price</th>\n",
       "      <th>overall_cost</th>\n",
       "      <th>has_insurance</th>\n",
       "      <th>spare_key</th>\n",
       "      <th>reg_number</th>\n",
       "      <th>models</th>\n",
       "      <th>transmissions</th>\n",
       "    </tr>\n",
       "  </thead>\n",
       "  <tbody>\n",
       "    <tr>\n",
       "      <th>3</th>\n",
       "      <td>2</td>\n",
       "      <td>2023.0</td>\n",
       "      <td>01-04-2023</td>\n",
       "      <td>3</td>\n",
       "      <td>1498.0</td>\n",
       "      <td>5061.0</td>\n",
       "      <td>0</td>\n",
       "      <td>1227000</td>\n",
       "      <td>23355.0</td>\n",
       "      <td>0</td>\n",
       "      <td>1</td>\n",
       "      <td>DL4C</td>\n",
       "      <td>131</td>\n",
       "      <td>0</td>\n",
       "    </tr>\n",
       "    <tr>\n",
       "      <th>4</th>\n",
       "      <td>1</td>\n",
       "      <td>2021.0</td>\n",
       "      <td>01-07-2021</td>\n",
       "      <td>1</td>\n",
       "      <td>1498.0</td>\n",
       "      <td>23480.0</td>\n",
       "      <td>0</td>\n",
       "      <td>887000</td>\n",
       "      <td>16883.0</td>\n",
       "      <td>0</td>\n",
       "      <td>0</td>\n",
       "      <td>UP14</td>\n",
       "      <td>212</td>\n",
       "      <td>1</td>\n",
       "    </tr>\n",
       "    <tr>\n",
       "      <th>5</th>\n",
       "      <td>2</td>\n",
       "      <td>2021.0</td>\n",
       "      <td>01-10-2021</td>\n",
       "      <td>3</td>\n",
       "      <td>1199.0</td>\n",
       "      <td>44787.0</td>\n",
       "      <td>0</td>\n",
       "      <td>796000</td>\n",
       "      <td>15561.0</td>\n",
       "      <td>0</td>\n",
       "      <td>0</td>\n",
       "      <td>UP32</td>\n",
       "      <td>736</td>\n",
       "      <td>1</td>\n",
       "    </tr>\n",
       "    <tr>\n",
       "      <th>6</th>\n",
       "      <td>12</td>\n",
       "      <td>2022.0</td>\n",
       "      <td>01-11-2022</td>\n",
       "      <td>3</td>\n",
       "      <td>1199.0</td>\n",
       "      <td>450.0</td>\n",
       "      <td>0</td>\n",
       "      <td>813000</td>\n",
       "      <td>15475.0</td>\n",
       "      <td>0</td>\n",
       "      <td>1</td>\n",
       "      <td>DL3C</td>\n",
       "      <td>482</td>\n",
       "      <td>1</td>\n",
       "    </tr>\n",
       "    <tr>\n",
       "      <th>7</th>\n",
       "      <td>12</td>\n",
       "      <td>2020.0</td>\n",
       "      <td>01-02-2021</td>\n",
       "      <td>1</td>\n",
       "      <td>1197.0</td>\n",
       "      <td>59866.0</td>\n",
       "      <td>0</td>\n",
       "      <td>728000</td>\n",
       "      <td>14228.0</td>\n",
       "      <td>0</td>\n",
       "      <td>0</td>\n",
       "      <td>DL5C</td>\n",
       "      <td>432</td>\n",
       "      <td>0</td>\n",
       "    </tr>\n",
       "  </tbody>\n",
       "</table>\n",
       "</div>"
      ],
      "text/plain": [
       "   brand  make_year    reg_year  fuel_type  engine_capacity(CC)  km_driven  \\\n",
       "3      2     2023.0  01-04-2023          3               1498.0     5061.0   \n",
       "4      1     2021.0  01-07-2021          1               1498.0    23480.0   \n",
       "5      2     2021.0  01-10-2021          3               1199.0    44787.0   \n",
       "6     12     2022.0  01-11-2022          3               1199.0      450.0   \n",
       "7     12     2020.0  01-02-2021          1               1197.0    59866.0   \n",
       "\n",
       "   ownership    price  overall_cost  has_insurance  spare_key reg_number  \\\n",
       "3          0  1227000       23355.0              0          1       DL4C   \n",
       "4          0   887000       16883.0              0          0       UP14   \n",
       "5          0   796000       15561.0              0          0       UP32   \n",
       "6          0   813000       15475.0              0          1       DL3C   \n",
       "7          0   728000       14228.0              0          0       DL5C   \n",
       "\n",
       "   models  transmissions  \n",
       "3     131              0  \n",
       "4     212              1  \n",
       "5     736              1  \n",
       "6     482              1  \n",
       "7     432              0  "
      ]
     },
     "execution_count": 119,
     "metadata": {},
     "output_type": "execute_result"
    }
   ],
   "source": [
    "dataset.head()"
   ]
  },
  {
   "cell_type": "code",
   "execution_count": 126,
   "id": "4ee24c8a-5900-4a65-becc-a5748a79dc4e",
   "metadata": {},
   "outputs": [],
   "source": [
    "dataset.drop(columns=[\"reg_number\"],inplace=True)"
   ]
  },
  {
   "cell_type": "code",
   "execution_count": 121,
   "id": "3e18e5af-febf-43fd-a558-48b6302ebfd8",
   "metadata": {},
   "outputs": [
    {
     "data": {
      "text/html": [
       "<div>\n",
       "<style scoped>\n",
       "    .dataframe tbody tr th:only-of-type {\n",
       "        vertical-align: middle;\n",
       "    }\n",
       "\n",
       "    .dataframe tbody tr th {\n",
       "        vertical-align: top;\n",
       "    }\n",
       "\n",
       "    .dataframe thead th {\n",
       "        text-align: right;\n",
       "    }\n",
       "</style>\n",
       "<table border=\"1\" class=\"dataframe\">\n",
       "  <thead>\n",
       "    <tr style=\"text-align: right;\">\n",
       "      <th></th>\n",
       "      <th>brand</th>\n",
       "      <th>make_year</th>\n",
       "      <th>fuel_type</th>\n",
       "      <th>engine_capacity(CC)</th>\n",
       "      <th>km_driven</th>\n",
       "      <th>ownership</th>\n",
       "      <th>price</th>\n",
       "      <th>overall_cost</th>\n",
       "      <th>has_insurance</th>\n",
       "      <th>spare_key</th>\n",
       "      <th>models</th>\n",
       "      <th>transmissions</th>\n",
       "    </tr>\n",
       "  </thead>\n",
       "  <tbody>\n",
       "    <tr>\n",
       "      <th>count</th>\n",
       "      <td>2803.000000</td>\n",
       "      <td>2803.000000</td>\n",
       "      <td>2803.000000</td>\n",
       "      <td>2803.000000</td>\n",
       "      <td>2803.000000</td>\n",
       "      <td>2803.000000</td>\n",
       "      <td>2.803000e+03</td>\n",
       "      <td>2803.000000</td>\n",
       "      <td>2803.0</td>\n",
       "      <td>2803.000000</td>\n",
       "      <td>2803.000000</td>\n",
       "      <td>2803.000000</td>\n",
       "    </tr>\n",
       "    <tr>\n",
       "      <th>mean</th>\n",
       "      <td>6.455583</td>\n",
       "      <td>2018.178737</td>\n",
       "      <td>2.655369</td>\n",
       "      <td>1255.719229</td>\n",
       "      <td>49222.650018</td>\n",
       "      <td>0.288263</td>\n",
       "      <td>1.342708e+06</td>\n",
       "      <td>13483.510168</td>\n",
       "      <td>0.0</td>\n",
       "      <td>0.268641</td>\n",
       "      <td>375.154121</td>\n",
       "      <td>0.686051</td>\n",
       "    </tr>\n",
       "    <tr>\n",
       "      <th>std</th>\n",
       "      <td>3.492074</td>\n",
       "      <td>2.945342</td>\n",
       "      <td>0.828879</td>\n",
       "      <td>248.490080</td>\n",
       "      <td>26624.655456</td>\n",
       "      <td>0.489389</td>\n",
       "      <td>3.556571e+07</td>\n",
       "      <td>6034.345782</td>\n",
       "      <td>0.0</td>\n",
       "      <td>0.443332</td>\n",
       "      <td>246.733966</td>\n",
       "      <td>0.464179</td>\n",
       "    </tr>\n",
       "    <tr>\n",
       "      <th>min</th>\n",
       "      <td>0.000000</td>\n",
       "      <td>2010.000000</td>\n",
       "      <td>0.000000</td>\n",
       "      <td>624.000000</td>\n",
       "      <td>450.000000</td>\n",
       "      <td>0.000000</td>\n",
       "      <td>1.630000e+05</td>\n",
       "      <td>4039.000000</td>\n",
       "      <td>0.0</td>\n",
       "      <td>0.000000</td>\n",
       "      <td>0.000000</td>\n",
       "      <td>0.000000</td>\n",
       "    </tr>\n",
       "    <tr>\n",
       "      <th>25%</th>\n",
       "      <td>3.000000</td>\n",
       "      <td>2016.000000</td>\n",
       "      <td>3.000000</td>\n",
       "      <td>1197.000000</td>\n",
       "      <td>28573.000000</td>\n",
       "      <td>0.000000</td>\n",
       "      <td>4.350000e+05</td>\n",
       "      <td>9266.500000</td>\n",
       "      <td>0.0</td>\n",
       "      <td>0.000000</td>\n",
       "      <td>141.000000</td>\n",
       "      <td>0.000000</td>\n",
       "    </tr>\n",
       "    <tr>\n",
       "      <th>50%</th>\n",
       "      <td>8.000000</td>\n",
       "      <td>2018.000000</td>\n",
       "      <td>3.000000</td>\n",
       "      <td>1197.000000</td>\n",
       "      <td>45695.000000</td>\n",
       "      <td>0.000000</td>\n",
       "      <td>5.940000e+05</td>\n",
       "      <td>12141.000000</td>\n",
       "      <td>0.0</td>\n",
       "      <td>0.000000</td>\n",
       "      <td>336.000000</td>\n",
       "      <td>1.000000</td>\n",
       "    </tr>\n",
       "    <tr>\n",
       "      <th>75%</th>\n",
       "      <td>8.000000</td>\n",
       "      <td>2021.000000</td>\n",
       "      <td>3.000000</td>\n",
       "      <td>1451.000000</td>\n",
       "      <td>68190.500000</td>\n",
       "      <td>1.000000</td>\n",
       "      <td>8.135000e+05</td>\n",
       "      <td>15753.000000</td>\n",
       "      <td>0.0</td>\n",
       "      <td>1.000000</td>\n",
       "      <td>608.000000</td>\n",
       "      <td>1.000000</td>\n",
       "    </tr>\n",
       "    <tr>\n",
       "      <th>max</th>\n",
       "      <td>14.000000</td>\n",
       "      <td>2024.000000</td>\n",
       "      <td>3.000000</td>\n",
       "      <td>2694.000000</td>\n",
       "      <td>143991.000000</td>\n",
       "      <td>2.000000</td>\n",
       "      <td>1.883558e+09</td>\n",
       "      <td>47338.000000</td>\n",
       "      <td>0.0</td>\n",
       "      <td>1.000000</td>\n",
       "      <td>817.000000</td>\n",
       "      <td>1.000000</td>\n",
       "    </tr>\n",
       "  </tbody>\n",
       "</table>\n",
       "</div>"
      ],
      "text/plain": [
       "             brand    make_year    fuel_type  engine_capacity(CC)  \\\n",
       "count  2803.000000  2803.000000  2803.000000          2803.000000   \n",
       "mean      6.455583  2018.178737     2.655369          1255.719229   \n",
       "std       3.492074     2.945342     0.828879           248.490080   \n",
       "min       0.000000  2010.000000     0.000000           624.000000   \n",
       "25%       3.000000  2016.000000     3.000000          1197.000000   \n",
       "50%       8.000000  2018.000000     3.000000          1197.000000   \n",
       "75%       8.000000  2021.000000     3.000000          1451.000000   \n",
       "max      14.000000  2024.000000     3.000000          2694.000000   \n",
       "\n",
       "           km_driven    ownership         price  overall_cost  has_insurance  \\\n",
       "count    2803.000000  2803.000000  2.803000e+03   2803.000000         2803.0   \n",
       "mean    49222.650018     0.288263  1.342708e+06  13483.510168            0.0   \n",
       "std     26624.655456     0.489389  3.556571e+07   6034.345782            0.0   \n",
       "min       450.000000     0.000000  1.630000e+05   4039.000000            0.0   \n",
       "25%     28573.000000     0.000000  4.350000e+05   9266.500000            0.0   \n",
       "50%     45695.000000     0.000000  5.940000e+05  12141.000000            0.0   \n",
       "75%     68190.500000     1.000000  8.135000e+05  15753.000000            0.0   \n",
       "max    143991.000000     2.000000  1.883558e+09  47338.000000            0.0   \n",
       "\n",
       "         spare_key       models  transmissions  \n",
       "count  2803.000000  2803.000000    2803.000000  \n",
       "mean      0.268641   375.154121       0.686051  \n",
       "std       0.443332   246.733966       0.464179  \n",
       "min       0.000000     0.000000       0.000000  \n",
       "25%       0.000000   141.000000       0.000000  \n",
       "50%       0.000000   336.000000       1.000000  \n",
       "75%       1.000000   608.000000       1.000000  \n",
       "max       1.000000   817.000000       1.000000  "
      ]
     },
     "execution_count": 121,
     "metadata": {},
     "output_type": "execute_result"
    }
   ],
   "source": [
    "dataset.describe()\n"
   ]
  },
  {
   "cell_type": "code",
   "execution_count": null,
   "id": "8e6bbd6f-c614-40bf-bb8c-b83d0c7ab4b0",
   "metadata": {},
   "outputs": [],
   "source": [
    "dataset.info()"
   ]
  },
  {
   "cell_type": "code",
   "execution_count": 136,
   "id": "35ae6941-3c60-4f44-b086-a69fd49128fd",
   "metadata": {},
   "outputs": [
    {
     "data": {
      "text/html": [
       "<div>\n",
       "<style scoped>\n",
       "    .dataframe tbody tr th:only-of-type {\n",
       "        vertical-align: middle;\n",
       "    }\n",
       "\n",
       "    .dataframe tbody tr th {\n",
       "        vertical-align: top;\n",
       "    }\n",
       "\n",
       "    .dataframe thead th {\n",
       "        text-align: right;\n",
       "    }\n",
       "</style>\n",
       "<table border=\"1\" class=\"dataframe\">\n",
       "  <thead>\n",
       "    <tr style=\"text-align: right;\">\n",
       "      <th></th>\n",
       "      <th>brand</th>\n",
       "      <th>make_year</th>\n",
       "      <th>fuel_type</th>\n",
       "      <th>engine_capacity(CC)</th>\n",
       "      <th>km_driven</th>\n",
       "      <th>ownership</th>\n",
       "      <th>price</th>\n",
       "      <th>overall_cost</th>\n",
       "      <th>has_insurance</th>\n",
       "      <th>spare_key</th>\n",
       "      <th>models</th>\n",
       "      <th>transmissions</th>\n",
       "    </tr>\n",
       "  </thead>\n",
       "  <tbody>\n",
       "    <tr>\n",
       "      <th>3</th>\n",
       "      <td>2</td>\n",
       "      <td>2023.0</td>\n",
       "      <td>3</td>\n",
       "      <td>1498.0</td>\n",
       "      <td>5061.0</td>\n",
       "      <td>0</td>\n",
       "      <td>1227000</td>\n",
       "      <td>23355.0</td>\n",
       "      <td>0</td>\n",
       "      <td>1</td>\n",
       "      <td>131</td>\n",
       "      <td>0</td>\n",
       "    </tr>\n",
       "    <tr>\n",
       "      <th>4</th>\n",
       "      <td>1</td>\n",
       "      <td>2021.0</td>\n",
       "      <td>1</td>\n",
       "      <td>1498.0</td>\n",
       "      <td>23480.0</td>\n",
       "      <td>0</td>\n",
       "      <td>887000</td>\n",
       "      <td>16883.0</td>\n",
       "      <td>0</td>\n",
       "      <td>0</td>\n",
       "      <td>212</td>\n",
       "      <td>1</td>\n",
       "    </tr>\n",
       "    <tr>\n",
       "      <th>5</th>\n",
       "      <td>2</td>\n",
       "      <td>2021.0</td>\n",
       "      <td>3</td>\n",
       "      <td>1199.0</td>\n",
       "      <td>44787.0</td>\n",
       "      <td>0</td>\n",
       "      <td>796000</td>\n",
       "      <td>15561.0</td>\n",
       "      <td>0</td>\n",
       "      <td>0</td>\n",
       "      <td>736</td>\n",
       "      <td>1</td>\n",
       "    </tr>\n",
       "    <tr>\n",
       "      <th>6</th>\n",
       "      <td>12</td>\n",
       "      <td>2022.0</td>\n",
       "      <td>3</td>\n",
       "      <td>1199.0</td>\n",
       "      <td>450.0</td>\n",
       "      <td>0</td>\n",
       "      <td>813000</td>\n",
       "      <td>15475.0</td>\n",
       "      <td>0</td>\n",
       "      <td>1</td>\n",
       "      <td>482</td>\n",
       "      <td>1</td>\n",
       "    </tr>\n",
       "    <tr>\n",
       "      <th>7</th>\n",
       "      <td>12</td>\n",
       "      <td>2020.0</td>\n",
       "      <td>1</td>\n",
       "      <td>1197.0</td>\n",
       "      <td>59866.0</td>\n",
       "      <td>0</td>\n",
       "      <td>728000</td>\n",
       "      <td>14228.0</td>\n",
       "      <td>0</td>\n",
       "      <td>0</td>\n",
       "      <td>432</td>\n",
       "      <td>0</td>\n",
       "    </tr>\n",
       "  </tbody>\n",
       "</table>\n",
       "</div>"
      ],
      "text/plain": [
       "   brand  make_year  fuel_type  engine_capacity(CC)  km_driven  ownership  \\\n",
       "3      2     2023.0          3               1498.0     5061.0          0   \n",
       "4      1     2021.0          1               1498.0    23480.0          0   \n",
       "5      2     2021.0          3               1199.0    44787.0          0   \n",
       "6     12     2022.0          3               1199.0      450.0          0   \n",
       "7     12     2020.0          1               1197.0    59866.0          0   \n",
       "\n",
       "     price  overall_cost  has_insurance  spare_key  models  transmissions  \n",
       "3  1227000       23355.0              0          1     131              0  \n",
       "4   887000       16883.0              0          0     212              1  \n",
       "5   796000       15561.0              0          0     736              1  \n",
       "6   813000       15475.0              0          1     482              1  \n",
       "7   728000       14228.0              0          0     432              0  "
      ]
     },
     "execution_count": 136,
     "metadata": {},
     "output_type": "execute_result"
    }
   ],
   "source": [
    "dataset.head()"
   ]
  },
  {
   "cell_type": "code",
   "execution_count": 138,
   "id": "7e0735f9-9922-4d65-89a9-030baa8a22c7",
   "metadata": {},
   "outputs": [
    {
     "data": {
      "text/html": [
       "<div>\n",
       "<style scoped>\n",
       "    .dataframe tbody tr th:only-of-type {\n",
       "        vertical-align: middle;\n",
       "    }\n",
       "\n",
       "    .dataframe tbody tr th {\n",
       "        vertical-align: top;\n",
       "    }\n",
       "\n",
       "    .dataframe thead th {\n",
       "        text-align: right;\n",
       "    }\n",
       "</style>\n",
       "<table border=\"1\" class=\"dataframe\">\n",
       "  <thead>\n",
       "    <tr style=\"text-align: right;\">\n",
       "      <th></th>\n",
       "      <th>brand</th>\n",
       "      <th>make_year</th>\n",
       "      <th>fuel_type</th>\n",
       "      <th>engine_capacity(CC)</th>\n",
       "      <th>km_driven</th>\n",
       "      <th>ownership</th>\n",
       "      <th>price</th>\n",
       "      <th>overall_cost</th>\n",
       "      <th>has_insurance</th>\n",
       "      <th>spare_key</th>\n",
       "      <th>models</th>\n",
       "      <th>transmissions</th>\n",
       "    </tr>\n",
       "  </thead>\n",
       "  <tbody>\n",
       "    <tr>\n",
       "      <th>count</th>\n",
       "      <td>2803.000000</td>\n",
       "      <td>2803.000000</td>\n",
       "      <td>2803.000000</td>\n",
       "      <td>2803.000000</td>\n",
       "      <td>2803.000000</td>\n",
       "      <td>2803.000000</td>\n",
       "      <td>2.803000e+03</td>\n",
       "      <td>2803.000000</td>\n",
       "      <td>2803.0</td>\n",
       "      <td>2803.000000</td>\n",
       "      <td>2803.000000</td>\n",
       "      <td>2803.000000</td>\n",
       "    </tr>\n",
       "    <tr>\n",
       "      <th>mean</th>\n",
       "      <td>6.455583</td>\n",
       "      <td>2018.178737</td>\n",
       "      <td>2.655369</td>\n",
       "      <td>1255.719229</td>\n",
       "      <td>49222.650018</td>\n",
       "      <td>0.288263</td>\n",
       "      <td>1.342708e+06</td>\n",
       "      <td>13483.510168</td>\n",
       "      <td>0.0</td>\n",
       "      <td>0.268641</td>\n",
       "      <td>375.154121</td>\n",
       "      <td>0.686051</td>\n",
       "    </tr>\n",
       "    <tr>\n",
       "      <th>std</th>\n",
       "      <td>3.492074</td>\n",
       "      <td>2.945342</td>\n",
       "      <td>0.828879</td>\n",
       "      <td>248.490080</td>\n",
       "      <td>26624.655456</td>\n",
       "      <td>0.489389</td>\n",
       "      <td>3.556571e+07</td>\n",
       "      <td>6034.345782</td>\n",
       "      <td>0.0</td>\n",
       "      <td>0.443332</td>\n",
       "      <td>246.733966</td>\n",
       "      <td>0.464179</td>\n",
       "    </tr>\n",
       "    <tr>\n",
       "      <th>min</th>\n",
       "      <td>0.000000</td>\n",
       "      <td>2010.000000</td>\n",
       "      <td>0.000000</td>\n",
       "      <td>624.000000</td>\n",
       "      <td>450.000000</td>\n",
       "      <td>0.000000</td>\n",
       "      <td>1.630000e+05</td>\n",
       "      <td>4039.000000</td>\n",
       "      <td>0.0</td>\n",
       "      <td>0.000000</td>\n",
       "      <td>0.000000</td>\n",
       "      <td>0.000000</td>\n",
       "    </tr>\n",
       "    <tr>\n",
       "      <th>25%</th>\n",
       "      <td>3.000000</td>\n",
       "      <td>2016.000000</td>\n",
       "      <td>3.000000</td>\n",
       "      <td>1197.000000</td>\n",
       "      <td>28573.000000</td>\n",
       "      <td>0.000000</td>\n",
       "      <td>4.350000e+05</td>\n",
       "      <td>9266.500000</td>\n",
       "      <td>0.0</td>\n",
       "      <td>0.000000</td>\n",
       "      <td>141.000000</td>\n",
       "      <td>0.000000</td>\n",
       "    </tr>\n",
       "    <tr>\n",
       "      <th>50%</th>\n",
       "      <td>8.000000</td>\n",
       "      <td>2018.000000</td>\n",
       "      <td>3.000000</td>\n",
       "      <td>1197.000000</td>\n",
       "      <td>45695.000000</td>\n",
       "      <td>0.000000</td>\n",
       "      <td>5.940000e+05</td>\n",
       "      <td>12141.000000</td>\n",
       "      <td>0.0</td>\n",
       "      <td>0.000000</td>\n",
       "      <td>336.000000</td>\n",
       "      <td>1.000000</td>\n",
       "    </tr>\n",
       "    <tr>\n",
       "      <th>75%</th>\n",
       "      <td>8.000000</td>\n",
       "      <td>2021.000000</td>\n",
       "      <td>3.000000</td>\n",
       "      <td>1451.000000</td>\n",
       "      <td>68190.500000</td>\n",
       "      <td>1.000000</td>\n",
       "      <td>8.135000e+05</td>\n",
       "      <td>15753.000000</td>\n",
       "      <td>0.0</td>\n",
       "      <td>1.000000</td>\n",
       "      <td>608.000000</td>\n",
       "      <td>1.000000</td>\n",
       "    </tr>\n",
       "    <tr>\n",
       "      <th>max</th>\n",
       "      <td>14.000000</td>\n",
       "      <td>2024.000000</td>\n",
       "      <td>3.000000</td>\n",
       "      <td>2694.000000</td>\n",
       "      <td>143991.000000</td>\n",
       "      <td>2.000000</td>\n",
       "      <td>1.883558e+09</td>\n",
       "      <td>47338.000000</td>\n",
       "      <td>0.0</td>\n",
       "      <td>1.000000</td>\n",
       "      <td>817.000000</td>\n",
       "      <td>1.000000</td>\n",
       "    </tr>\n",
       "  </tbody>\n",
       "</table>\n",
       "</div>"
      ],
      "text/plain": [
       "             brand    make_year    fuel_type  engine_capacity(CC)  \\\n",
       "count  2803.000000  2803.000000  2803.000000          2803.000000   \n",
       "mean      6.455583  2018.178737     2.655369          1255.719229   \n",
       "std       3.492074     2.945342     0.828879           248.490080   \n",
       "min       0.000000  2010.000000     0.000000           624.000000   \n",
       "25%       3.000000  2016.000000     3.000000          1197.000000   \n",
       "50%       8.000000  2018.000000     3.000000          1197.000000   \n",
       "75%       8.000000  2021.000000     3.000000          1451.000000   \n",
       "max      14.000000  2024.000000     3.000000          2694.000000   \n",
       "\n",
       "           km_driven    ownership         price  overall_cost  has_insurance  \\\n",
       "count    2803.000000  2803.000000  2.803000e+03   2803.000000         2803.0   \n",
       "mean    49222.650018     0.288263  1.342708e+06  13483.510168            0.0   \n",
       "std     26624.655456     0.489389  3.556571e+07   6034.345782            0.0   \n",
       "min       450.000000     0.000000  1.630000e+05   4039.000000            0.0   \n",
       "25%     28573.000000     0.000000  4.350000e+05   9266.500000            0.0   \n",
       "50%     45695.000000     0.000000  5.940000e+05  12141.000000            0.0   \n",
       "75%     68190.500000     1.000000  8.135000e+05  15753.000000            0.0   \n",
       "max    143991.000000     2.000000  1.883558e+09  47338.000000            0.0   \n",
       "\n",
       "         spare_key       models  transmissions  \n",
       "count  2803.000000  2803.000000    2803.000000  \n",
       "mean      0.268641   375.154121       0.686051  \n",
       "std       0.443332   246.733966       0.464179  \n",
       "min       0.000000     0.000000       0.000000  \n",
       "25%       0.000000   141.000000       0.000000  \n",
       "50%       0.000000   336.000000       1.000000  \n",
       "75%       1.000000   608.000000       1.000000  \n",
       "max       1.000000   817.000000       1.000000  "
      ]
     },
     "execution_count": 138,
     "metadata": {},
     "output_type": "execute_result"
    }
   ],
   "source": [
    "dataset.describe()"
   ]
  },
  {
   "cell_type": "code",
   "execution_count": 144,
   "id": "ae5ad2fb-455e-40dd-b509-8ea0a62cabd8",
   "metadata": {},
   "outputs": [
    {
     "name": "stderr",
     "output_type": "stream",
     "text": [
      "C:\\Users\\Akash Mishra\\AppData\\Local\\Temp\\ipykernel_2652\\509418274.py:1: UserWarning: \n",
      "\n",
      "`distplot` is a deprecated function and will be removed in seaborn v0.14.0.\n",
      "\n",
      "Please adapt your code to use either `displot` (a figure-level function with\n",
      "similar flexibility) or `histplot` (an axes-level function for histograms).\n",
      "\n",
      "For a guide to updating your code to use the new functions, please see\n",
      "https://gist.github.com/mwaskom/de44147ed2974457ad6372750bbe5751\n",
      "\n",
      "  sns.distplot(dataset[\"km_driven\"])\n",
      "c:\\users\\akash mishra\\pycharmprojects\\essen.tech.prat\\venv\\lib\\site-packages\\seaborn\\_oldcore.py:1119: FutureWarning: use_inf_as_na option is deprecated and will be removed in a future version. Convert inf values to NaN before operating instead.\n",
      "  with pd.option_context('mode.use_inf_as_na', True):\n"
     ]
    },
    {
     "data": {
      "image/png": "[encoded data removed]",
      "text/plain": [
       "<Figure size 640x480 with 1 Axes>"
      ]
     },
     "metadata": {},
     "output_type": "display_data"
    }
   ],
   "source": [
    "sns.distplot(dataset[\"km_driven\"])\n",
    "plt.show()"
   ]
  },
  {
   "cell_type": "code",
   "execution_count": 146,
   "id": "c4d8e59e-afbf-477c-ab39-707306c32d93",
   "metadata": {},
   "outputs": [
    {
     "name": "stderr",
     "output_type": "stream",
     "text": [
      "C:\\Users\\Akash Mishra\\AppData\\Local\\Temp\\ipykernel_2652\\2039613667.py:1: UserWarning: \n",
      "\n",
      "`distplot` is a deprecated function and will be removed in seaborn v0.14.0.\n",
      "\n",
      "Please adapt your code to use either `displot` (a figure-level function with\n",
      "similar flexibility) or `histplot` (an axes-level function for histograms).\n",
      "\n",
      "For a guide to updating your code to use the new functions, please see\n",
      "https://gist.github.com/mwaskom/de44147ed2974457ad6372750bbe5751\n",
      "\n",
      "  sns.distplot(dataset[\"engine_capacity(CC)\"])\n",
      "c:\\users\\akash mishra\\pycharmprojects\\essen.tech.prat\\venv\\lib\\site-packages\\seaborn\\_oldcore.py:1119: FutureWarning: use_inf_as_na option is deprecated and will be removed in a future version. Convert inf values to NaN before operating instead.\n",
      "  with pd.option_context('mode.use_inf_as_na', True):\n"
     ]
    },
    {
     "data": {
      "image/png": "[encoded data removed]",
      "text/plain": [
       "<Figure size 640x480 with 1 Axes>"
      ]
     },
     "metadata": {},
     "output_type": "display_data"
    }
   ],
   "source": [
    "sns.distplot(dataset[\"engine_capacity(CC)\"])\n",
    "plt.show()"
   ]
  },
  {
   "cell_type": "code",
   "execution_count": 147,
   "id": "3b0df3cd-6b33-4f96-bf44-7547f7d46c06",
   "metadata": {},
   "outputs": [
    {
     "name": "stderr",
     "output_type": "stream",
     "text": [
      "C:\\Users\\Akash Mishra\\AppData\\Local\\Temp\\ipykernel_2652\\906807810.py:1: UserWarning: \n",
      "\n",
      "`distplot` is a deprecated function and will be removed in seaborn v0.14.0.\n",
      "\n",
      "Please adapt your code to use either `displot` (a figure-level function with\n",
      "similar flexibility) or `histplot` (an axes-level function for histograms).\n",
      "\n",
      "For a guide to updating your code to use the new functions, please see\n",
      "https://gist.github.com/mwaskom/de44147ed2974457ad6372750bbe5751\n",
      "\n",
      "  sns.distplot(dataset[\"overall_cost\"])\n",
      "c:\\users\\akash mishra\\pycharmprojects\\essen.tech.prat\\venv\\lib\\site-packages\\seaborn\\_oldcore.py:1119: FutureWarning: use_inf_as_na option is deprecated and will be removed in a future version. Convert inf values to NaN before operating instead.\n",
      "  with pd.option_context('mode.use_inf_as_na', True):\n"
     ]
    },
    {
     "data": {
      "image/png": "[encoded data removed]",
      "text/plain": [
       "<Figure size 640x480 with 1 Axes>"
      ]
     },
     "metadata": {},
     "output_type": "display_data"
    }
   ],
   "source": [
    "sns.distplot(dataset[\"overall_cost\"])\n",
    "plt.show()"
   ]
  },
  {
   "cell_type": "code",
   "execution_count": 149,
   "id": "54091d27-8a3c-41fa-86e7-a5ae75a19eab",
   "metadata": {},
   "outputs": [],
   "source": [
    "from sklearn.preprocessing import StandardScaler"
   ]
  },
  {
   "cell_type": "code",
   "execution_count": 160,
   "id": "013789b7-4f90-4d2c-9ad0-3eaa93cf18f5",
   "metadata": {},
   "outputs": [],
   "source": [
    "columns_to_scale=[\"engine_capacity(CC)\",\"km_driven\",\"overall_cost\"]\n",
    "ss=StandardScaler()\n",
    "dataset[\"engine_capacity(CC)\"]=ss.fit_transform(dataset[[\"engine_capacity(CC)\"]])"
   ]
  },
  {
   "cell_type": "code",
   "execution_count": 161,
   "id": "911ee405-5558-491c-8209-4e4467c7ba9f",
   "metadata": {},
   "outputs": [],
   "source": [
    "ss=StandardScaler()\n",
    "dataset[\"km_driven\"]=ss.fit_transform(dataset[[\"km_driven\"]])"
   ]
  },
  {
   "cell_type": "code",
   "execution_count": 162,
   "id": "23441472-d300-4142-91f7-ce3765be15da",
   "metadata": {},
   "outputs": [],
   "source": [
    "ss=StandardScaler()\n",
    "dataset[\"overall_cost\"]=ss.fit_transform(dataset[[\"overall_cost\"]])"
   ]
  },
  {
   "cell_type": "code",
   "execution_count": 163,
   "id": "f310edde-c8a0-41b4-bce3-a0681e830559",
   "metadata": {},
   "outputs": [
    {
     "data": {
      "text/html": [
       "<div>\n",
       "<style scoped>\n",
       "    .dataframe tbody tr th:only-of-type {\n",
       "        vertical-align: middle;\n",
       "    }\n",
       "\n",
       "    .dataframe tbody tr th {\n",
       "        vertical-align: top;\n",
       "    }\n",
       "\n",
       "    .dataframe thead th {\n",
       "        text-align: right;\n",
       "    }\n",
       "</style>\n",
       "<table border=\"1\" class=\"dataframe\">\n",
       "  <thead>\n",
       "    <tr style=\"text-align: right;\">\n",
       "      <th></th>\n",
       "      <th>brand</th>\n",
       "      <th>make_year</th>\n",
       "      <th>fuel_type</th>\n",
       "      <th>engine_capacity(CC)</th>\n",
       "      <th>km_driven</th>\n",
       "      <th>ownership</th>\n",
       "      <th>price</th>\n",
       "      <th>overall_cost</th>\n",
       "      <th>has_insurance</th>\n",
       "      <th>spare_key</th>\n",
       "      <th>models</th>\n",
       "      <th>transmissions</th>\n",
       "    </tr>\n",
       "  </thead>\n",
       "  <tbody>\n",
       "    <tr>\n",
       "      <th>3</th>\n",
       "      <td>2</td>\n",
       "      <td>2023.0</td>\n",
       "      <td>3</td>\n",
       "      <td>0.975186</td>\n",
       "      <td>-1.658971</td>\n",
       "      <td>0</td>\n",
       "      <td>1227000</td>\n",
       "      <td>1.636176</td>\n",
       "      <td>0</td>\n",
       "      <td>1</td>\n",
       "      <td>131</td>\n",
       "      <td>0</td>\n",
       "    </tr>\n",
       "    <tr>\n",
       "      <th>4</th>\n",
       "      <td>1</td>\n",
       "      <td>2021.0</td>\n",
       "      <td>1</td>\n",
       "      <td>0.975186</td>\n",
       "      <td>-0.967045</td>\n",
       "      <td>0</td>\n",
       "      <td>887000</td>\n",
       "      <td>0.563457</td>\n",
       "      <td>0</td>\n",
       "      <td>0</td>\n",
       "      <td>212</td>\n",
       "      <td>1</td>\n",
       "    </tr>\n",
       "    <tr>\n",
       "      <th>5</th>\n",
       "      <td>2</td>\n",
       "      <td>2021.0</td>\n",
       "      <td>3</td>\n",
       "      <td>-0.228296</td>\n",
       "      <td>-0.166629</td>\n",
       "      <td>0</td>\n",
       "      <td>796000</td>\n",
       "      <td>0.344339</td>\n",
       "      <td>0</td>\n",
       "      <td>0</td>\n",
       "      <td>736</td>\n",
       "      <td>1</td>\n",
       "    </tr>\n",
       "    <tr>\n",
       "      <th>6</th>\n",
       "      <td>12</td>\n",
       "      <td>2022.0</td>\n",
       "      <td>3</td>\n",
       "      <td>-0.228296</td>\n",
       "      <td>-1.832187</td>\n",
       "      <td>0</td>\n",
       "      <td>813000</td>\n",
       "      <td>0.330085</td>\n",
       "      <td>0</td>\n",
       "      <td>1</td>\n",
       "      <td>482</td>\n",
       "      <td>1</td>\n",
       "    </tr>\n",
       "    <tr>\n",
       "      <th>7</th>\n",
       "      <td>12</td>\n",
       "      <td>2020.0</td>\n",
       "      <td>1</td>\n",
       "      <td>-0.236346</td>\n",
       "      <td>0.399827</td>\n",
       "      <td>0</td>\n",
       "      <td>728000</td>\n",
       "      <td>0.123397</td>\n",
       "      <td>0</td>\n",
       "      <td>0</td>\n",
       "      <td>432</td>\n",
       "      <td>0</td>\n",
       "    </tr>\n",
       "  </tbody>\n",
       "</table>\n",
       "</div>"
      ],
      "text/plain": [
       "   brand  make_year  fuel_type  engine_capacity(CC)  km_driven  ownership  \\\n",
       "3      2     2023.0          3             0.975186  -1.658971          0   \n",
       "4      1     2021.0          1             0.975186  -0.967045          0   \n",
       "5      2     2021.0          3            -0.228296  -0.166629          0   \n",
       "6     12     2022.0          3            -0.228296  -1.832187          0   \n",
       "7     12     2020.0          1            -0.236346   0.399827          0   \n",
       "\n",
       "     price  overall_cost  has_insurance  spare_key  models  transmissions  \n",
       "3  1227000      1.636176              0          1     131              0  \n",
       "4   887000      0.563457              0          0     212              1  \n",
       "5   796000      0.344339              0          0     736              1  \n",
       "6   813000      0.330085              0          1     482              1  \n",
       "7   728000      0.123397              0          0     432              0  "
      ]
     },
     "execution_count": 163,
     "metadata": {},
     "output_type": "execute_result"
    }
   ],
   "source": [
    "dataset.head()"
   ]
  },
  {
   "cell_type": "code",
   "execution_count": 174,
   "id": "a6c897c6-fb75-4fee-8dbd-84e12cf73744",
   "metadata": {},
   "outputs": [],
   "source": [
    "column_to_move=\"price\"\n",
    "last_position=len(dataset.columns)-1\n",
    "columns=list(dataset.columns)\n",
    "columns.remove(column_to_move)\n",
    "columns.insert(last_position,column_to_move)\n",
    "dataset=dataset[columns]"
   ]
  },
  {
   "cell_type": "code",
   "execution_count": 175,
   "id": "bce210ea-89ef-4932-9d63-2d92ef93c102",
   "metadata": {},
   "outputs": [
    {
     "data": {
      "text/html": [
       "<div>\n",
       "<style scoped>\n",
       "    .dataframe tbody tr th:only-of-type {\n",
       "        vertical-align: middle;\n",
       "    }\n",
       "\n",
       "    .dataframe tbody tr th {\n",
       "        vertical-align: top;\n",
       "    }\n",
       "\n",
       "    .dataframe thead th {\n",
       "        text-align: right;\n",
       "    }\n",
       "</style>\n",
       "<table border=\"1\" class=\"dataframe\">\n",
       "  <thead>\n",
       "    <tr style=\"text-align: right;\">\n",
       "      <th></th>\n",
       "      <th>brand</th>\n",
       "      <th>make_year</th>\n",
       "      <th>fuel_type</th>\n",
       "      <th>engine_capacity(CC)</th>\n",
       "      <th>km_driven</th>\n",
       "      <th>ownership</th>\n",
       "      <th>overall_cost</th>\n",
       "      <th>has_insurance</th>\n",
       "      <th>spare_key</th>\n",
       "      <th>models</th>\n",
       "      <th>transmissions</th>\n",
       "      <th>price</th>\n",
       "    </tr>\n",
       "  </thead>\n",
       "  <tbody>\n",
       "    <tr>\n",
       "      <th>3</th>\n",
       "      <td>2</td>\n",
       "      <td>2023.0</td>\n",
       "      <td>3</td>\n",
       "      <td>0.975186</td>\n",
       "      <td>-1.658971</td>\n",
       "      <td>0</td>\n",
       "      <td>1.636176</td>\n",
       "      <td>0</td>\n",
       "      <td>1</td>\n",
       "      <td>131</td>\n",
       "      <td>0</td>\n",
       "      <td>1227000</td>\n",
       "    </tr>\n",
       "    <tr>\n",
       "      <th>4</th>\n",
       "      <td>1</td>\n",
       "      <td>2021.0</td>\n",
       "      <td>1</td>\n",
       "      <td>0.975186</td>\n",
       "      <td>-0.967045</td>\n",
       "      <td>0</td>\n",
       "      <td>0.563457</td>\n",
       "      <td>0</td>\n",
       "      <td>0</td>\n",
       "      <td>212</td>\n",
       "      <td>1</td>\n",
       "      <td>887000</td>\n",
       "    </tr>\n",
       "  </tbody>\n",
       "</table>\n",
       "</div>"
      ],
      "text/plain": [
       "   brand  make_year  fuel_type  engine_capacity(CC)  km_driven  ownership  \\\n",
       "3      2     2023.0          3             0.975186  -1.658971          0   \n",
       "4      1     2021.0          1             0.975186  -0.967045          0   \n",
       "\n",
       "   overall_cost  has_insurance  spare_key  models  transmissions    price  \n",
       "3      1.636176              0          1     131              0  1227000  \n",
       "4      0.563457              0          0     212              1   887000  "
      ]
     },
     "execution_count": 175,
     "metadata": {},
     "output_type": "execute_result"
    }
   ],
   "source": [
    "dataset.head(2)"
   ]
  },
  {
   "cell_type": "code",
   "execution_count": 176,
   "id": "fe91e60e-7d79-4ce1-a13d-14d470165edd",
   "metadata": {},
   "outputs": [],
   "source": [
    "x=dataset.iloc[:,:-1]\n",
    "y=dataset[\"price\"]"
   ]
  },
  {
   "cell_type": "code",
   "execution_count": 173,
   "id": "449380f9-c3c3-44c0-8371-21006bc71c33",
   "metadata": {},
   "outputs": [],
   "source": [
    "from sklearn.model_selection import train_test_split"
   ]
  },
  {
   "cell_type": "code",
   "execution_count": 178,
   "id": "c11c616f-feb9-4276-a2ec-3f7c34d58896",
   "metadata": {},
   "outputs": [],
   "source": [
    "x_train,x_test,y_train,y_test=train_test_split(x,y,test_size=0.2,random_state=42)"
   ]
  },
  {
   "cell_type": "code",
   "execution_count": 179,
   "id": "3a06919a-bbde-4b4b-9b10-964a17291456",
   "metadata": {},
   "outputs": [],
   "source": [
    "from sklearn.linear_model import LinearRegression"
   ]
  },
  {
   "cell_type": "code",
   "execution_count": 182,
   "id": "34d57241-9278-40df-ae05-28ebb286166d",
   "metadata": {},
   "outputs": [
    {
     "data": {
      "image/png": "[encoded data removed]",
      "text/plain": [
       "<Figure size 2750x250 with 11 Axes>"
      ]
     },
     "metadata": {},
     "output_type": "display_data"
    }
   ],
   "source": [
    "sns.pairplot(dataset,x_vars=x.columns,y_vars=\"price\",kind=\"scatter\")\n",
    "plt.show()"
   ]
  },
  {
   "cell_type": "code",
   "execution_count": 185,
   "id": "f45f7c68-dc8d-4c7d-877e-a3a1e3941cca",
   "metadata": {},
   "outputs": [
    {
     "name": "stderr",
     "output_type": "stream",
     "text": [
      "c:\\users\\akash mishra\\pycharmprojects\\essen.tech.prat\\venv\\lib\\site-packages\\seaborn\\matrix.py:260: FutureWarning: Format strings passed to MaskedConstant are ignored, but in future may error or produce different behavior\n",
      "  annotation = (\"{:\" + self.fmt + \"}\").format(val)\n"
     ]
    },
    {
     "data": {
      "image/png": "[encoded data removed]",
      "text/plain": [
       "<Figure size 640x480 with 2 Axes>"
      ]
     },
     "metadata": {},
     "output_type": "display_data"
    }
   ],
   "source": [
    "corr_matrix=dataset.corr()\n",
    "sns.heatmap(corr_matrix,\n",
    "            annot=True,cmap=\"coolwarm\")\n",
    "plt.show()"
   ]
  },
  {
   "cell_type": "code",
   "execution_count": null,
   "id": "1dc60cbd-b20c-4b29-b3df-66968f1a234c",
   "metadata": {},
   "outputs": [],
   "source": []
  },
  {
   "cell_type": "code",
   "execution_count": null,
   "id": "31b9f6c3-85e0-42df-a9bd-e34906d9be31",
   "metadata": {},
   "outputs": [],
   "source": []
  },
  {
   "cell_type": "code",
   "execution_count": null,
   "id": "32e7e97d-89fa-47be-819c-4e24f4c83951",
   "metadata": {},
   "outputs": [],
   "source": []
  },
  {
   "cell_type": "code",
   "execution_count": null,
   "id": "fafc2a1f-e435-4d98-ba5d-443bf1338814",
   "metadata": {},
   "outputs": [],
   "source": []
  },
  {
   "cell_type": "code",
   "execution_count": null,
   "id": "74b3db84-e9b8-4e1b-93b8-957eb230344f",
   "metadata": {},
   "outputs": [],
   "source": []
  },
  {
   "cell_type": "code",
   "execution_count": null,
   "id": "91a4b756-7f2f-4596-a941-69394e277001",
   "metadata": {},
   "outputs": [],
   "source": []
  },
  {
   "cell_type": "code",
   "execution_count": null,
   "id": "6301a6e9-0ffc-4544-abf0-3ba232b22656",
   "metadata": {},
   "outputs": [],
   "source": []
  },
  {
   "cell_type": "code",
   "execution_count": null,
   "id": "ceed5e81-d095-4986-b305-33111c451a6c",
   "metadata": {},
   "outputs": [],
   "source": []
  },
  {
   "cell_type": "code",
   "execution_count": null,
   "id": "78dec00a-9ffc-476b-aaf4-e0fe5ab4284c",
   "metadata": {},
   "outputs": [],
   "source": []
  },
  {
   "cell_type": "code",
   "execution_count": null,
   "id": "82de6d85-bc8a-43d3-bb00-67e376dc490c",
   "metadata": {},
   "outputs": [],
   "source": []
  },
  {
   "cell_type": "code",
   "execution_count": null,
   "id": "e8e077dc-ae39-4979-ac84-eb1ce1e0d64c",
   "metadata": {},
   "outputs": [],
   "source": []
  },
  {
   "cell_type": "code",
   "execution_count": null,
   "id": "6652505c-c39a-4fe9-8f11-24b59cd890dc",
   "metadata": {},
   "outputs": [],
   "source": []
  },
  {
   "cell_type": "code",
   "execution_count": null,
   "id": "84d71916-2a46-4284-93d8-8fbea761cb3c",
   "metadata": {},
   "outputs": [],
   "source": []
  },
  {
   "cell_type": "code",
   "execution_count": null,
   "id": "1d28acd3-62d4-4de7-ab3f-0acd94802354",
   "metadata": {},
   "outputs": [],
   "source": []
  },
  {
   "cell_type": "code",
   "execution_count": null,
   "id": "4cfcdbbc-6f50-4292-8336-8d879c93acdd",
   "metadata": {},
   "outputs": [],
   "source": []
  },
  {
   "cell_type": "code",
   "execution_count": null,
   "id": "72d0b6dc-6321-4e6e-b6bd-f90c2413ca75",
   "metadata": {},
   "outputs": [],
   "source": []
  }
 ],
 "metadata": {
  "kernelspec": {
   "display_name": "Python 3 (ipykernel)",
   "language": "python",
   "name": "python3"
  },
  "language_info": {
   "codemirror_mode": {
    "name": "ipython",
    "version": 3
   },
   "file_extension": ".py",
   "mimetype": "text/x-python",
   "name": "python",
   "nbconvert_exporter": "python",
   "pygments_lexer": "ipython3",
   "version": "3.10.5"
  }
 },
 "nbformat": 4,
 "nbformat_minor": 5
}
