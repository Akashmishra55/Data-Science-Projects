{
 "cells": [
  {
   "cell_type": "code",
   "execution_count": 1,
   "id": "322f1b30-cb37-42d9-a075-5583aa5e5649",
   "metadata": {
    "scrolled": true
   },
   "outputs": [
    {
     "name": "stdin",
     "output_type": "stream",
     "text": [
      "Enter the  1st values: 10\n",
      "Enter the  2nd values: 20\n"
     ]
    },
    {
     "name": "stdout",
     "output_type": "stream",
     "text": [
      "1.Addition 2.Subtraction,3.Multiplication,4.Division,5.Modulus,6.Floor Division \n"
     ]
    },
    {
     "name": "stdin",
     "output_type": "stream",
     "text": [
      "Enter Choice(1-6):  5\n"
     ]
    },
    {
     "name": "stdout",
     "output_type": "stream",
     "text": [
      "Modulus of 2 numbers = 10\n"
     ]
    }
   ],
   "source": [
    "#Q1.Write a Python program to accept inputs from users and perform arithmetic operations\n",
    "num1=int(input(\"Enter the  1st values:\"))\n",
    "num2=int(input(\"Enter the  2nd values:\"))\n",
    "print(\"1.Addition 2.Subtraction,3.Multiplication,4.Division,5.Modulus,6.Floor Division \")\n",
    "am=int(input(\"Enter Choice(1-6): \"))\n",
    "\n",
    "if am==1:\n",
    "    a=num1+num2\n",
    "    print(\"Sum of 2 numbers = \",a)\n",
    "elif am==2:\n",
    "    a=num1-num2\n",
    "    print(\"difference of 2 numbers = \",a)\n",
    "elif  am==3:\n",
    "    a=num1*num2\n",
    "    print(\" Multiplication of 2 numbers= \",a)\n",
    "elif am==4:\n",
    "    a=num1/num2\n",
    "    print(\"Division of 2 numbers = \",a)\n",
    "elif am==5:\n",
    "    a=num1%num2\n",
    "    print(\"Modulus of 2 numbers =\",a)\n",
    "elif am==6:\n",
    "    a=num1//num2\n",
    "    print(\"Floor Division =\",a)\n",
    "else:\n",
    "    print(\"invalid\")"
   ]
  },
  {
   "cell_type": "code",
   "execution_count": 1,
   "id": "bf4ae6d2-cda2-4f53-8fcd-20de62c82c76",
   "metadata": {},
   "outputs": [
    {
     "name": "stdin",
     "output_type": "stream",
     "text": [
      "Enter the first Number 43\n",
      "enter the second number 21\n"
     ]
    },
    {
     "name": "stdout",
     "output_type": "stream",
     "text": [
      "43 Is greater than  21 : True\n",
      "43 Is  less than 21 : False\n",
      "43 Is  greater than or equal to 21 : True\n",
      "43 Is  less than or equal to 21 : False\n",
      "43 Is  equal to 21 : False\n",
      "43 Is  not equal to 21 : True\n"
     ]
    }
   ],
   "source": [
    "# Program to demonstrate relational and logical operators in Python\n",
    "                   # Part A\n",
    "a = int(input(\"Enter the first Number\"))\n",
    "b = int(input(\"enter the second number\"))\n",
    "print(a,\"Is greater than \",b,\":\", a > b)\n",
    "\n",
    "print(a,\"Is  less than\",b,\":\", a < b)\n",
    "\n",
    "print(a,\"Is  greater than or equal to\",b,\":\", a >= b)\n",
    "\n",
    "print(a,\"Is  less than or equal to\",b,\":\", a <= b)\n",
    "\n",
    "print(a,\"Is  equal to\",b,\":\", a == b)\n",
    "\n",
    "print(a,\"Is  not equal to\",b,\":\", a != b)\n"
   ]
  },
  {
   "cell_type": "code",
   "execution_count": 3,
   "id": "7e7dfd81-fb2b-4faf-8559-1d5b67c60f33",
   "metadata": {},
   "outputs": [
    {
     "name": "stdin",
     "output_type": "stream",
     "text": [
      "Enter the marks of Physics: 80\n",
      "Enter the marks of Chemistry: 82\n",
      "Enter the marks Maths: 85\n",
      "Enter the marks Biology: 70\n"
     ]
    },
    {
     "name": "stdout",
     "output_type": "stream",
     "text": [
      "you are eligible for engeering \n"
     ]
    }
   ],
   "source": [
    "#Part B\n",
    "\n",
    "# logical operators \n",
    "p=int(input(\"Enter the marks of Physics:\"))\n",
    "c=int(input(\"Enter the marks of Chemistry:\"))\n",
    "m=int(input(\"Enter the marks Maths:\"))\n",
    "b=int(input(\"Enter the marks Biology:\"))\n",
    "\n",
    "pcm=p+c+m\n",
    "pcmb=p+c+m+b\n",
    "pcb=p+c+b\n",
    "if pcm >70 and m>80:\n",
    "    print(\"you are eligible for engeering \")\n",
    "elif pcb >80 or pcmb==60:\n",
    "    print(\"You are eligible for Medical \")\n",
    "elif b>85 or pcb==80:\n",
    "    print(\"you are eligible for CET\")\n",
    "else:\n",
    "    print(\"you are not eligible\")"
   ]
  },
  {
   "cell_type": "code",
   "execution_count": 3,
   "id": "b6afa0f6-2759-4f9b-8c08-8e65a4bd3228",
   "metadata": {},
   "outputs": [
    {
     "name": "stdin",
     "output_type": "stream",
     "text": [
      "Enter the num: 7710988662\n"
     ]
    },
    {
     "name": "stdout",
     "output_type": "stream",
     "text": [
      "The reverse Number is: 2668890177\n"
     ]
    }
   ],
   "source": [
    "#Reversing the number using For loop\n",
    "n=(input(\"Enter the num:\"))\n",
    "reverse=\"\"\n",
    "for i in range(len(n),0,-1):\n",
    "    reverse += n[i-1]\n",
    "print('The reverse Number is:',reverse)\n"
   ]
  },
  {
   "cell_type": "code",
   "execution_count": 23,
   "id": "01437456-69b4-4ae2-b5dd-7e471d816bf7",
   "metadata": {},
   "outputs": [
    {
     "name": "stdin",
     "output_type": "stream",
     "text": [
      "Enter the value: 421202\n"
     ]
    },
    {
     "name": "stdout",
     "output_type": "stream",
     "text": [
      "The reverse number is: 202124\n"
     ]
    }
   ],
   "source": [
    "#Reversing the Number Using While Loop\n",
    "num=int(input(\"Enter the value:\"))\n",
    "rev=0\n",
    "while (num>0):\n",
    "    rem=num%10\n",
    "    rev=(rev*10)+rem\n",
    "    num=num//10\n",
    "print(\"The reverse number is:\",rev) "
   ]
  },
  {
   "cell_type": "code",
   "execution_count": 8,
   "id": "a1f3c48f-525a-4e29-88b3-d13b12b4ee8b",
   "metadata": {},
   "outputs": [
    {
     "name": "stdout",
     "output_type": "stream",
     "text": [
      "<class 'list'>\n",
      "[1, 2, 3, 4, 5, 6, 6]\n",
      "7\n",
      "2\n",
      "The occurance of number 6 is: 2\n",
      "The location of number 4 is: 3\n",
      "The indexing number is: 5\n",
      "1\n",
      "3\n",
      "2\n",
      "[1, 2, 3, 4, 5, 6, 6]\n",
      "[1, 2, 3, 4]\n",
      "[1, 4, 6]\n",
      "[6, 6, 5, 4, 3, 2, 1]\n",
      "[6, 5, 3, 1]\n",
      "[1, 2, 3, 4, 5, 6, 6, 7]\n",
      "[1, 2, 3, 4, 5, 6, 6, 7, 8, 8, 9, 10, 11]\n",
      "[1, 2, 3, 4, 4.5, 5, 6, 6, 7, 8, 8, 9, 10, 11]\n",
      "[1, 2, 3, 4, 4.5, 5, 6, 6, 7, 8, 8, 9, 10]\n",
      "[1, 2, 3, 4, 5, 6, 6, 7, 8, 8, 9, 10]\n",
      "[1, 2, 3, 4, 5, 6, 6, 8, 8, 9, 10]\n",
      "[10, 9, 8, 8, 6, 6, 5, 4, 3, 2, 1]\n",
      "[10, 9, 8, 8, 6, 6, 5, 4, 3, 2, 1]\n",
      "True\n",
      "False\n",
      "True\n",
      "False\n",
      "2\n",
      "62\n",
      "10\n",
      "1\n",
      "[10, 9, 8, 8, 6, 6, 5, 4, 3, 2, 1, 100, 200, 300]\n"
     ]
    }
   ],
   "source": [
    "#Practical 4A\n",
    "#WAP to Implementl] Lists in Python for Suitable Problem\n",
    "list=[1,2,3,4,5,6,6]\n",
    "print(type(list))\n",
    "print(list)\n",
    "print(len(list)) #Length of List will be displayed\n",
    "\n",
    "#Built in Functions\n",
    "print(list.count(6)) #Occurance of the number 6 will be displayed\n",
    "print(\"The occurance of number 6 is:\",list.count(6))\n",
    "print(\"The location of number 4 is:\",list.index(4))\n",
    "\n",
    "#Indexing\n",
    "print(\"The indexing number is:\",list[-3]) #Print element with help of index number\n",
    "print(list[0])\n",
    "print(list[2])\n",
    "print(list[-6])\n",
    "\n",
    "#Slicing list from by default till 6th position\n",
    "print(list[::])\n",
    "print(list[:4])\n",
    "print(list[::3])\n",
    "print(list[::-1]) #The reverse of list\n",
    "print(list[::-2]) #Reverse with step value -2\n",
    "\n",
    "#Adding Elements to list\n",
    "list.append(7) #Adding an element to the list\n",
    "print(list)\n",
    "list.extend([8,8,9,10,11]) #Adding multiple elements to the list\n",
    "print(list)\n",
    "list.insert(4,4.5) #Inserting value in list by assigning indexing position\n",
    "print(list)\n",
    "\n",
    "#Removing element from list\n",
    "list.pop()#By default deletes last element\n",
    "print(list)\n",
    "list.pop(4)\n",
    "print(list)#Delete element by mentioning indexing position\n",
    "list.remove(7) #Removes the element by mentioning it\n",
    "print(list)\n",
    "\n",
    "#Reversing a list\n",
    "list.reverse() #Reverses the elements of the list\n",
    "print(list)\n",
    "z=list.copy()\n",
    "print(z)\n",
    "\n",
    "#'In' and 'not in' operations\n",
    "print(5 in list)#Checks if the element is present\n",
    "print(50 in list)\n",
    "print(50 not in list)\n",
    "print(5 not in list)\n",
    "\n",
    "#Other opeations in lists\n",
    "print(list.count(6))#Counts the occurance of an element\n",
    "print(sum(list))\n",
    "print(max(list))\n",
    "print(min(list))\n",
    "\n",
    "#Concatination in lists\n",
    "list2=[100,200,300]\n",
    "cat=list+list2\n",
    "print(cat)"
   ]
  },
  {
   "cell_type": "code",
   "execution_count": 21,
   "id": "6a59e546-7c57-41f1-b742-7f313e8abe7d",
   "metadata": {},
   "outputs": [
    {
     "data": {
      "text/plain": [
       "{'Afganistan', 'China', 'India', 'Pakistan', 'japan'}"
      ]
     },
     "execution_count": 21,
     "metadata": {},
     "output_type": "execute_result"
    }
   ],
   "source": [
    "# #Practical 4B\n",
    "\n",
    "#Sets\n",
    "set1={\"India\",\"China\",\"Afganistan\",\"Pakistan\",\"India\"}\n",
    "type(set1)\n",
    "set1\n",
    "\n",
    "len(set1)\n",
    "\n",
    "z=set1.copy()\n",
    "z\n",
    "\n",
    "#Delete elements\n",
    "z.pop()\n",
    "z\n",
    "\n",
    "set1.add(\"japan\")\n",
    "set1\n",
    "\n",
    "#set1.clear()\n",
    "#set1"
   ]
  },
  {
   "cell_type": "code",
   "execution_count": 19,
   "id": "3eaec29e-ecd6-461a-9c4c-83e26149caf5",
   "metadata": {},
   "outputs": [
    {
     "name": "stdout",
     "output_type": "stream",
     "text": [
      "{1: 'a', 2: 'b', 3: 'c', 4: 'd', 5: False}\n",
      "<class 'dict'>\n",
      "5\n",
      "{1: 'a', 2: 'b', 3: 'c'}\n",
      "{1: 'a', 2: 'b', 3: 'c', 4: 'Python'}\n",
      "Python\n",
      "{1: 'a', 2: 'b'}\n",
      "dict_items([(1, 'apple'), (2, 'banana'), (3, 'cherry'), (4, 'mango'), (5, 'watermelon')])\n",
      "dict_keys([1, 2, 3, 4, 5])\n",
      "dict_values(['apple', 'banana', 'cherry', 'mango', 'watermelon'])\n",
      "{1: 'apple', 2: 'banana', 3: 'cherry', 4: 'mango', 5: 'watermelon'}\n",
      "{1: 'apple', 2: 'banana', 3: 'jam', 4: 'mango', 5: 'watermelon'}\n",
      "{1: 'apple', 2: 'banana', 3: 'jam', 4: 'mango', 5: 'watermelon', 6: 'butter'}\n",
      "True\n",
      "False\n",
      "True\n",
      "{}\n"
     ]
    }
   ],
   "source": [
    "#Part C\n",
    "#Dictinoary\n",
    "\n",
    "d={1:'a',2:'b',3:'c',4:'d',5:False}\n",
    "print(d)\n",
    "print(type(d))\n",
    "print(len(d))\n",
    "\n",
    "#Adding an elemnt to an existing dictionary\n",
    "d={1:'a',2:'b',3:'c'}\n",
    "print(d)\n",
    "d[4]=\"Python\" #adding an element with a specified key\n",
    "print(d)\n",
    "\n",
    "#Print a value by with the help of the key\n",
    "d={1:'a',2:'b',3:'c',4:\"Python\"}\n",
    "print(d[4])\n",
    "\n",
    "#Pop an element by key value\n",
    "d={1:'a',2:'b',3:'c'}\n",
    "d.pop(3)\n",
    "print(d)\n",
    "\n",
    "#Built in functions in dictionaries\n",
    "d={1:\"apple\",2:\"banana\",3:\"cherry\",4:\"mango\",5:\"watermelon\"}\n",
    "print(d.items()) #Prints dictionary as a tuple\n",
    "print(d.keys()) #Prints only the key values\n",
    "print(d.values())#Prints only the values\n",
    "d_new=d.copy() #copies one dictionary and stores in another\n",
    "print(d_new)\n",
    "d[3]=\"jam\" #Replaces the values stored at third key\n",
    "print(d)\n",
    "d.update({6:\"butter\"})\n",
    "print(d)\n",
    "\n",
    "#In and Not in function\n",
    "a=3 in d #checks if the key is present\n",
    "print(a)\n",
    "b=1 not in d #Cheks if the key is not present\n",
    "print(b)\n",
    "\n",
    "#Any function\n",
    "print(any(d)) #Checks if the dictionary contains something\n",
    "\n",
    "#clear and delete\n",
    "d.clear() #All items will be deleted\n",
    "print(d)\n",
    "del d #deletes the entire dictionary"
   ]
  },
  {
   "cell_type": "code",
   "execution_count": 8,
   "id": "6887f389-7fbd-435e-94f6-09a9f700204e",
   "metadata": {},
   "outputs": [
    {
     "data": {
      "text/html": [
       "<div>\n",
       "<style scoped>\n",
       "    .dataframe tbody tr th:only-of-type {\n",
       "        vertical-align: middle;\n",
       "    }\n",
       "\n",
       "    .dataframe tbody tr th {\n",
       "        vertical-align: top;\n",
       "    }\n",
       "\n",
       "    .dataframe thead th {\n",
       "        text-align: right;\n",
       "    }\n",
       "</style>\n",
       "<table border=\"1\" class=\"dataframe\">\n",
       "  <thead>\n",
       "    <tr style=\"text-align: right;\">\n",
       "      <th></th>\n",
       "      <th>patients</th>\n",
       "      <th>age</th>\n",
       "      <th>Systolic</th>\n",
       "      <th>Diastolic</th>\n",
       "      <th>Heart Rate</th>\n",
       "      <th>glucose</th>\n",
       "      <th>outcomes</th>\n",
       "    </tr>\n",
       "  </thead>\n",
       "  <tbody>\n",
       "    <tr>\n",
       "      <th>0</th>\n",
       "      <td>1</td>\n",
       "      <td>20</td>\n",
       "      <td>129</td>\n",
       "      <td>79</td>\n",
       "      <td>72</td>\n",
       "      <td>6</td>\n",
       "      <td>1</td>\n",
       "    </tr>\n",
       "    <tr>\n",
       "      <th>1</th>\n",
       "      <td>2</td>\n",
       "      <td>24</td>\n",
       "      <td>133</td>\n",
       "      <td>80</td>\n",
       "      <td>75</td>\n",
       "      <td>2</td>\n",
       "      <td>0</td>\n",
       "    </tr>\n",
       "    <tr>\n",
       "      <th>2</th>\n",
       "      <td>3</td>\n",
       "      <td>42</td>\n",
       "      <td>142</td>\n",
       "      <td>86</td>\n",
       "      <td>70</td>\n",
       "      <td>4</td>\n",
       "      <td>0</td>\n",
       "    </tr>\n",
       "    <tr>\n",
       "      <th>3</th>\n",
       "      <td>4</td>\n",
       "      <td>44</td>\n",
       "      <td>141</td>\n",
       "      <td>84</td>\n",
       "      <td>68</td>\n",
       "      <td>5</td>\n",
       "      <td>1</td>\n",
       "    </tr>\n",
       "    <tr>\n",
       "      <th>4</th>\n",
       "      <td>5</td>\n",
       "      <td>35</td>\n",
       "      <td>137</td>\n",
       "      <td>84</td>\n",
       "      <td>70</td>\n",
       "      <td>6</td>\n",
       "      <td>0</td>\n",
       "    </tr>\n",
       "    <tr>\n",
       "      <th>5</th>\n",
       "      <td>6</td>\n",
       "      <td>27</td>\n",
       "      <td>139</td>\n",
       "      <td>83</td>\n",
       "      <td>72</td>\n",
       "      <td>8</td>\n",
       "      <td>1</td>\n",
       "    </tr>\n",
       "    <tr>\n",
       "      <th>6</th>\n",
       "      <td>7</td>\n",
       "      <td>29</td>\n",
       "      <td>140</td>\n",
       "      <td>85</td>\n",
       "      <td>78</td>\n",
       "      <td>9</td>\n",
       "      <td>1</td>\n",
       "    </tr>\n",
       "    <tr>\n",
       "      <th>7</th>\n",
       "      <td>8</td>\n",
       "      <td>34</td>\n",
       "      <td>138</td>\n",
       "      <td>85</td>\n",
       "      <td>69</td>\n",
       "      <td>1</td>\n",
       "      <td>1</td>\n",
       "    </tr>\n",
       "    <tr>\n",
       "      <th>8</th>\n",
       "      <td>9</td>\n",
       "      <td>39</td>\n",
       "      <td>135</td>\n",
       "      <td>79</td>\n",
       "      <td>75</td>\n",
       "      <td>2</td>\n",
       "      <td>1</td>\n",
       "    </tr>\n",
       "    <tr>\n",
       "      <th>9</th>\n",
       "      <td>10</td>\n",
       "      <td>36</td>\n",
       "      <td>136</td>\n",
       "      <td>81</td>\n",
       "      <td>72</td>\n",
       "      <td>8</td>\n",
       "      <td>1</td>\n",
       "    </tr>\n",
       "    <tr>\n",
       "      <th>10</th>\n",
       "      <td>11</td>\n",
       "      <td>26</td>\n",
       "      <td>137</td>\n",
       "      <td>83</td>\n",
       "      <td>69</td>\n",
       "      <td>4</td>\n",
       "      <td>0</td>\n",
       "    </tr>\n",
       "    <tr>\n",
       "      <th>11</th>\n",
       "      <td>12</td>\n",
       "      <td>23</td>\n",
       "      <td>138</td>\n",
       "      <td>85</td>\n",
       "      <td>66</td>\n",
       "      <td>3</td>\n",
       "      <td>0</td>\n",
       "    </tr>\n",
       "    <tr>\n",
       "      <th>12</th>\n",
       "      <td>13</td>\n",
       "      <td>30</td>\n",
       "      <td>135</td>\n",
       "      <td>80</td>\n",
       "      <td>67</td>\n",
       "      <td>7</td>\n",
       "      <td>1</td>\n",
       "    </tr>\n",
       "    <tr>\n",
       "      <th>13</th>\n",
       "      <td>14</td>\n",
       "      <td>33</td>\n",
       "      <td>142</td>\n",
       "      <td>85</td>\n",
       "      <td>72</td>\n",
       "      <td>4</td>\n",
       "      <td>0</td>\n",
       "    </tr>\n",
       "  </tbody>\n",
       "</table>\n",
       "</div>"
      ],
      "text/plain": [
       "    patients  age  Systolic  Diastolic  Heart Rate  glucose  outcomes\n",
       "0          1   20       129         79          72        6         1\n",
       "1          2   24       133         80          75        2         0\n",
       "2          3   42       142         86          70        4         0\n",
       "3          4   44       141         84          68        5         1\n",
       "4          5   35       137         84          70        6         0\n",
       "5          6   27       139         83          72        8         1\n",
       "6          7   29       140         85          78        9         1\n",
       "7          8   34       138         85          69        1         1\n",
       "8          9   39       135         79          75        2         1\n",
       "9         10   36       136         81          72        8         1\n",
       "10        11   26       137         83          69        4         0\n",
       "11        12   23       138         85          66        3         0\n",
       "12        13   30       135         80          67        7         1\n",
       "13        14   33       142         85          72        4         0"
      ]
     },
     "execution_count": 8,
     "metadata": {},
     "output_type": "execute_result"
    }
   ],
   "source": [
    "import pandas as pd\n",
    "import numpy as np\n",
    "\n",
    "df=pd.read_csv(\"BloodPressureTracker1.csv\")\n",
    "df #calling "
   ]
  },
  {
   "cell_type": "code",
   "execution_count": 9,
   "id": "97f9946f-31c2-410f-920c-179b287567b9",
   "metadata": {},
   "outputs": [
    {
     "name": "stdout",
     "output_type": "stream",
     "text": [
      "<class 'pandas.core.frame.DataFrame'>\n",
      "RangeIndex: 14 entries, 0 to 13\n",
      "Data columns (total 7 columns):\n",
      " #   Column      Non-Null Count  Dtype\n",
      "---  ------      --------------  -----\n",
      " 0   patients    14 non-null     int64\n",
      " 1   age         14 non-null     int64\n",
      " 2   Systolic    14 non-null     int64\n",
      " 3   Diastolic   14 non-null     int64\n",
      " 4   Heart Rate  14 non-null     int64\n",
      " 5   glucose     14 non-null     int64\n",
      " 6   outcomes    14 non-null     int64\n",
      "dtypes: int64(7)\n",
      "memory usage: 912.0 bytes\n"
     ]
    }
   ],
   "source": [
    "df.info()"
   ]
  },
  {
   "cell_type": "code",
   "execution_count": 11,
   "id": "2b378a1e-7d6a-481c-bdd4-88f5d4040b02",
   "metadata": {},
   "outputs": [
    {
     "data": {
      "text/html": [
       "<div>\n",
       "<style scoped>\n",
       "    .dataframe tbody tr th:only-of-type {\n",
       "        vertical-align: middle;\n",
       "    }\n",
       "\n",
       "    .dataframe tbody tr th {\n",
       "        vertical-align: top;\n",
       "    }\n",
       "\n",
       "    .dataframe thead th {\n",
       "        text-align: right;\n",
       "    }\n",
       "</style>\n",
       "<table border=\"1\" class=\"dataframe\">\n",
       "  <thead>\n",
       "    <tr style=\"text-align: right;\">\n",
       "      <th></th>\n",
       "      <th>patients</th>\n",
       "      <th>age</th>\n",
       "      <th>Systolic</th>\n",
       "      <th>Diastolic</th>\n",
       "      <th>Heart Rate</th>\n",
       "      <th>glucose</th>\n",
       "      <th>outcomes</th>\n",
       "    </tr>\n",
       "  </thead>\n",
       "  <tbody>\n",
       "    <tr>\n",
       "      <th>count</th>\n",
       "      <td>14.0000</td>\n",
       "      <td>14.000000</td>\n",
       "      <td>14.000000</td>\n",
       "      <td>14.000000</td>\n",
       "      <td>14.000000</td>\n",
       "      <td>14.000000</td>\n",
       "      <td>14.000000</td>\n",
       "    </tr>\n",
       "    <tr>\n",
       "      <th>mean</th>\n",
       "      <td>7.5000</td>\n",
       "      <td>31.571429</td>\n",
       "      <td>137.285714</td>\n",
       "      <td>82.785714</td>\n",
       "      <td>71.071429</td>\n",
       "      <td>4.928571</td>\n",
       "      <td>0.571429</td>\n",
       "    </tr>\n",
       "    <tr>\n",
       "      <th>std</th>\n",
       "      <td>4.1833</td>\n",
       "      <td>7.250616</td>\n",
       "      <td>3.604027</td>\n",
       "      <td>2.486226</td>\n",
       "      <td>3.338915</td>\n",
       "      <td>2.495050</td>\n",
       "      <td>0.513553</td>\n",
       "    </tr>\n",
       "    <tr>\n",
       "      <th>min</th>\n",
       "      <td>1.0000</td>\n",
       "      <td>20.000000</td>\n",
       "      <td>129.000000</td>\n",
       "      <td>79.000000</td>\n",
       "      <td>66.000000</td>\n",
       "      <td>1.000000</td>\n",
       "      <td>0.000000</td>\n",
       "    </tr>\n",
       "    <tr>\n",
       "      <th>25%</th>\n",
       "      <td>4.2500</td>\n",
       "      <td>26.250000</td>\n",
       "      <td>135.250000</td>\n",
       "      <td>80.250000</td>\n",
       "      <td>69.000000</td>\n",
       "      <td>3.250000</td>\n",
       "      <td>0.000000</td>\n",
       "    </tr>\n",
       "    <tr>\n",
       "      <th>50%</th>\n",
       "      <td>7.5000</td>\n",
       "      <td>31.500000</td>\n",
       "      <td>137.500000</td>\n",
       "      <td>83.500000</td>\n",
       "      <td>71.000000</td>\n",
       "      <td>4.500000</td>\n",
       "      <td>1.000000</td>\n",
       "    </tr>\n",
       "    <tr>\n",
       "      <th>75%</th>\n",
       "      <td>10.7500</td>\n",
       "      <td>35.750000</td>\n",
       "      <td>139.750000</td>\n",
       "      <td>85.000000</td>\n",
       "      <td>72.000000</td>\n",
       "      <td>6.750000</td>\n",
       "      <td>1.000000</td>\n",
       "    </tr>\n",
       "    <tr>\n",
       "      <th>max</th>\n",
       "      <td>14.0000</td>\n",
       "      <td>44.000000</td>\n",
       "      <td>142.000000</td>\n",
       "      <td>86.000000</td>\n",
       "      <td>78.000000</td>\n",
       "      <td>9.000000</td>\n",
       "      <td>1.000000</td>\n",
       "    </tr>\n",
       "  </tbody>\n",
       "</table>\n",
       "</div>"
      ],
      "text/plain": [
       "       patients        age    Systolic  Diastolic  Heart Rate    glucose  \\\n",
       "count   14.0000  14.000000   14.000000  14.000000   14.000000  14.000000   \n",
       "mean     7.5000  31.571429  137.285714  82.785714   71.071429   4.928571   \n",
       "std      4.1833   7.250616    3.604027   2.486226    3.338915   2.495050   \n",
       "min      1.0000  20.000000  129.000000  79.000000   66.000000   1.000000   \n",
       "25%      4.2500  26.250000  135.250000  80.250000   69.000000   3.250000   \n",
       "50%      7.5000  31.500000  137.500000  83.500000   71.000000   4.500000   \n",
       "75%     10.7500  35.750000  139.750000  85.000000   72.000000   6.750000   \n",
       "max     14.0000  44.000000  142.000000  86.000000   78.000000   9.000000   \n",
       "\n",
       "        outcomes  \n",
       "count  14.000000  \n",
       "mean    0.571429  \n",
       "std     0.513553  \n",
       "min     0.000000  \n",
       "25%     0.000000  \n",
       "50%     1.000000  \n",
       "75%     1.000000  \n",
       "max     1.000000  "
      ]
     },
     "execution_count": 11,
     "metadata": {},
     "output_type": "execute_result"
    }
   ],
   "source": [
    "df.describe()"
   ]
  },
  {
   "cell_type": "code",
   "execution_count": 15,
   "id": "803125b8-325e-4948-be7b-affb4417b217",
   "metadata": {},
   "outputs": [
    {
     "data": {
      "text/plain": [
       "Index(['patients', 'age', 'Systolic', 'Diastolic', 'Heart Rate', 'glucose',\n",
       "       'outcomes'],\n",
       "      dtype='object')"
      ]
     },
     "execution_count": 15,
     "metadata": {},
     "output_type": "execute_result"
    }
   ],
   "source": [
    "df.columns"
   ]
  },
  {
   "cell_type": "code",
   "execution_count": 21,
   "id": "5c9c5849-7339-4c28-b6ed-9baf8ebbf315",
   "metadata": {},
   "outputs": [
    {
     "ename": "NameError",
     "evalue": "name 'types' is not defined",
     "output_type": "error",
     "traceback": [
      "\u001b[1;31m---------------------------------------------------------------------------\u001b[0m",
      "\u001b[1;31mNameError\u001b[0m                                 Traceback (most recent call last)",
      "Cell \u001b[1;32mIn[21], line 1\u001b[0m\n\u001b[1;32m----> 1\u001b[0m \u001b[43mtypes\u001b[49m(df)\n",
      "\u001b[1;31mNameError\u001b[0m: name 'types' is not defined"
     ]
    }
   ],
   "source": []
  },
  {
   "cell_type": "code",
   "execution_count": 22,
   "id": "6835e36a-ada4-4e41-8d4d-da54da910f4d",
   "metadata": {},
   "outputs": [
    {
     "data": {
      "text/plain": [
       "patients      0\n",
       "age           0\n",
       "Systolic      0\n",
       "Diastolic     0\n",
       "Heart Rate    0\n",
       "glucose       0\n",
       "outcomes      0\n",
       "dtype: int64"
      ]
     },
     "execution_count": 22,
     "metadata": {},
     "output_type": "execute_result"
    }
   ],
   "source": [
    "df.isnull().sum()"
   ]
  },
  {
   "cell_type": "code",
   "execution_count": 25,
   "id": "25eec7d7-c156-47da-be6d-5593414b03fe",
   "metadata": {},
   "outputs": [
    {
     "data": {
      "text/plain": [
       "[]"
      ]
     },
     "execution_count": 25,
     "metadata": {},
     "output_type": "execute_result"
    }
   ],
   "source": [
    "[features for features in df.columns if df [features].isnull().sum()]"
   ]
  },
  {
   "cell_type": "code",
   "execution_count": 26,
   "id": "be8ce28a-2686-4fda-911a-6b5ccc014a2c",
   "metadata": {},
   "outputs": [],
   "source": [
    "import seaborn as sn"
   ]
  },
  {
   "cell_type": "code",
   "execution_count": 27,
   "id": "3f38b2c9-beff-4ae2-b714-08eb4679c4a7",
   "metadata": {},
   "outputs": [
    {
     "data": {
      "text/plain": [
       "<Axes: >"
      ]
     },
     "execution_count": 27,
     "metadata": {},
     "output_type": "execute_result"
    },
    {
     "data": {
      "image/png": "[encoded data removed]",
      "text/plain": [
       "<Figure size 640x480 with 1 Axes>"
      ]
     },
     "metadata": {},
     "output_type": "display_data"
    }
   ],
   "source": [
    "sn.heatmap(df.isnull(),yticklabels=False,cbar=False,cmap=\"viridis\")"
   ]
  },
  {
   "cell_type": "code",
   "execution_count": null,
   "id": "94794d25-a61b-4081-b087-6696ee5a2352",
   "metadata": {},
   "outputs": [],
   "source": []
  }
 ],
 "metadata": {
  "kernelspec": {
   "display_name": "Python 3 (ipykernel)",
   "language": "python",
   "name": "python3"
  },
  "language_info": {
   "codemirror_mode": {
    "name": "ipython",
    "version": 3
   },
   "file_extension": ".py",
   "mimetype": "text/x-python",
   "name": "python",
   "nbconvert_exporter": "python",
   "pygments_lexer": "ipython3",
   "version": "3.10.5"
  }
 },
 "nbformat": 4,
 "nbformat_minor": 5
}
